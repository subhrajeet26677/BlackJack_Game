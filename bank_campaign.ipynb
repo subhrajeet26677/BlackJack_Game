{
  "cells": [
    {
      "cell_type": "markdown",
      "metadata": {
        "id": "view-in-github",
        "colab_type": "text"
      },
      "source": [
        "<a href=\"https://colab.research.google.com/github/subhrajeet26677/BlackJack_Game/blob/master/bank_campaign.ipynb\" target=\"_parent\"><img src=\"https://colab.research.google.com/assets/colab-badge.svg\" alt=\"Open In Colab\"/></a>"
      ]
    },
    {
      "cell_type": "code",
      "execution_count": null,
      "metadata": {
        "_cell_guid": "b1076dfc-b9ad-4769-8c92-a6c4dae69d19",
        "_uuid": "8f2839f25d086af736a60e9eeb907d3b93b6e0e5",
        "execution": {
          "iopub.execute_input": "2023-07-31T12:24:59.732770Z",
          "iopub.status.busy": "2023-07-31T12:24:59.732238Z",
          "iopub.status.idle": "2023-07-31T12:24:59.739427Z",
          "shell.execute_reply": "2023-07-31T12:24:59.738023Z",
          "shell.execute_reply.started": "2023-07-31T12:24:59.732735Z"
        },
        "trusted": true,
        "id": "5zzbMa8OMY3k"
      },
      "outputs": [],
      "source": [
        "9import pandas as pd\n",
        "import numpy as np"
      ]
    },
    {
      "cell_type": "code",
      "execution_count": null,
      "metadata": {
        "execution": {
          "iopub.execute_input": "2023-07-31T12:25:00.433470Z",
          "iopub.status.busy": "2023-07-31T12:25:00.432606Z",
          "iopub.status.idle": "2023-07-31T12:25:00.589536Z",
          "shell.execute_reply": "2023-07-31T12:25:00.588330Z",
          "shell.execute_reply.started": "2023-07-31T12:25:00.433429Z"
        },
        "trusted": true,
        "id": "9utB_qDkMY3o"
      },
      "outputs": [],
      "source": [
        "df1 = pd.read_csv('Data/Customer_and_bank details_p1.csv')\n",
        "df2 = pd.read_csv('Data/Customer_campaign_details_p1.csv')\n",
        "df3 = pd.read_csv('Data/Customer_social_economic_data_p1.csv')\n",
        "df4 = pd.read_csv('Data/Customer_Response_data_p1.csv')"
      ]
    },
    {
      "cell_type": "code",
      "execution_count": null,
      "metadata": {
        "execution": {
          "iopub.execute_input": "2023-07-31T12:25:00.952885Z",
          "iopub.status.busy": "2023-07-31T12:25:00.952395Z",
          "iopub.status.idle": "2023-07-31T12:25:00.960086Z",
          "shell.execute_reply": "2023-07-31T12:25:00.958412Z",
          "shell.execute_reply.started": "2023-07-31T12:25:00.952846Z"
        },
        "trusted": true,
        "id": "0Q8WF4ZiMY3q",
        "outputId": "492df4b4-c4f4-49d2-c279-cb3807ff5726"
      },
      "outputs": [
        {
          "name": "stdout",
          "output_type": "stream",
          "text": [
            "df1 shape :  (37084, 11)\n",
            "df2 shape :  (37084, 9)\n",
            "df3 shape :  (37084, 6)\n",
            "df4 shape :  (37084, 2)\n"
          ]
        }
      ],
      "source": [
        "print('df1 shape : ', df1.shape)\n",
        "print('df2 shape : ', df2.shape)\n",
        "print('df3 shape : ', df3.shape)\n",
        "print('df4 shape : ', df4.shape)"
      ]
    },
    {
      "cell_type": "markdown",
      "metadata": {
        "id": "45OIXqVaMY3t"
      },
      "source": [
        "<h3>we have join these rows according to the guidelines"
      ]
    },
    {
      "cell_type": "code",
      "execution_count": null,
      "metadata": {
        "execution": {
          "iopub.execute_input": "2023-07-31T12:25:01.918446Z",
          "iopub.status.busy": "2023-07-31T12:25:01.917968Z",
          "iopub.status.idle": "2023-07-31T12:25:01.931993Z",
          "shell.execute_reply": "2023-07-31T12:25:01.930412Z",
          "shell.execute_reply.started": "2023-07-31T12:25:01.918411Z"
        },
        "trusted": true,
        "id": "5it7Cn9ZMY3w",
        "outputId": "ab7d1d21-952e-47d6-ae45-11740c65a0b0"
      },
      "outputs": [
        {
          "data": {
            "text/html": [
              "<div>\n",
              "<style scoped>\n",
              "    .dataframe tbody tr th:only-of-type {\n",
              "        vertical-align: middle;\n",
              "    }\n",
              "\n",
              "    .dataframe tbody tr th {\n",
              "        vertical-align: top;\n",
              "    }\n",
              "\n",
              "    .dataframe thead th {\n",
              "        text-align: right;\n",
              "    }\n",
              "</style>\n",
              "<table border=\"1\" class=\"dataframe\">\n",
              "  <thead>\n",
              "    <tr style=\"text-align: right;\">\n",
              "      <th></th>\n",
              "      <th>Customer_id</th>\n",
              "      <th>y</th>\n",
              "    </tr>\n",
              "  </thead>\n",
              "  <tbody>\n",
              "    <tr>\n",
              "      <th>0</th>\n",
              "      <td>1</td>\n",
              "      <td>no</td>\n",
              "    </tr>\n",
              "    <tr>\n",
              "      <th>1</th>\n",
              "      <td>2</td>\n",
              "      <td>no</td>\n",
              "    </tr>\n",
              "    <tr>\n",
              "      <th>2</th>\n",
              "      <td>3</td>\n",
              "      <td>no</td>\n",
              "    </tr>\n",
              "    <tr>\n",
              "      <th>3</th>\n",
              "      <td>4</td>\n",
              "      <td>no</td>\n",
              "    </tr>\n",
              "    <tr>\n",
              "      <th>4</th>\n",
              "      <td>5</td>\n",
              "      <td>no</td>\n",
              "    </tr>\n",
              "  </tbody>\n",
              "</table>\n",
              "</div>"
            ],
            "text/plain": [
              "   Customer_id   y\n",
              "0            1  no\n",
              "1            2  no\n",
              "2            3  no\n",
              "3            4  no\n",
              "4            5  no"
            ]
          },
          "execution_count": 4,
          "metadata": {},
          "output_type": "execute_result"
        }
      ],
      "source": [
        "df4.head()"
      ]
    },
    {
      "cell_type": "code",
      "execution_count": null,
      "metadata": {
        "execution": {
          "iopub.execute_input": "2023-07-31T12:25:01.935557Z",
          "iopub.status.busy": "2023-07-31T12:25:01.934365Z",
          "iopub.status.idle": "2023-07-31T12:25:01.949664Z",
          "shell.execute_reply": "2023-07-31T12:25:01.947831Z",
          "shell.execute_reply.started": "2023-07-31T12:25:01.935521Z"
        },
        "trusted": true,
        "id": "onLItd7-MY3x"
      },
      "outputs": [],
      "source": [
        "df2.drop(['Customer_id'], axis=1, inplace=True)\n",
        "df3.drop(['Customer_id'], axis=1, inplace=True)\n",
        "df4.drop(['Customer_id'], axis=1, inplace=True)"
      ]
    },
    {
      "cell_type": "code",
      "execution_count": null,
      "metadata": {
        "execution": {
          "iopub.execute_input": "2023-07-31T12:25:01.951676Z",
          "iopub.status.busy": "2023-07-31T12:25:01.951254Z",
          "iopub.status.idle": "2023-07-31T12:25:01.973176Z",
          "shell.execute_reply": "2023-07-31T12:25:01.971405Z",
          "shell.execute_reply.started": "2023-07-31T12:25:01.951646Z"
        },
        "trusted": true,
        "id": "oAaR_jSHMY3y",
        "outputId": "e128be43-6b2a-407a-cc18-76d6f72a7594"
      },
      "outputs": [
        {
          "data": {
            "text/html": [
              "<div>\n",
              "<style scoped>\n",
              "    .dataframe tbody tr th:only-of-type {\n",
              "        vertical-align: middle;\n",
              "    }\n",
              "\n",
              "    .dataframe tbody tr th {\n",
              "        vertical-align: top;\n",
              "    }\n",
              "\n",
              "    .dataframe thead th {\n",
              "        text-align: right;\n",
              "    }\n",
              "</style>\n",
              "<table border=\"1\" class=\"dataframe\">\n",
              "  <thead>\n",
              "    <tr style=\"text-align: right;\">\n",
              "      <th></th>\n",
              "      <th>contact</th>\n",
              "      <th>month</th>\n",
              "      <th>day_of_week</th>\n",
              "      <th>duration</th>\n",
              "      <th>campaign</th>\n",
              "      <th>pdays</th>\n",
              "      <th>previous</th>\n",
              "      <th>poutcome</th>\n",
              "    </tr>\n",
              "  </thead>\n",
              "  <tbody>\n",
              "    <tr>\n",
              "      <th>0</th>\n",
              "      <td>telephone</td>\n",
              "      <td>may</td>\n",
              "      <td>mon</td>\n",
              "      <td>307</td>\n",
              "      <td>1</td>\n",
              "      <td>999</td>\n",
              "      <td>0</td>\n",
              "      <td>nonexistent</td>\n",
              "    </tr>\n",
              "    <tr>\n",
              "      <th>1</th>\n",
              "      <td>telephone</td>\n",
              "      <td>may</td>\n",
              "      <td>mon</td>\n",
              "      <td>198</td>\n",
              "      <td>1</td>\n",
              "      <td>999</td>\n",
              "      <td>0</td>\n",
              "      <td>nonexistent</td>\n",
              "    </tr>\n",
              "    <tr>\n",
              "      <th>2</th>\n",
              "      <td>telephone</td>\n",
              "      <td>may</td>\n",
              "      <td>mon</td>\n",
              "      <td>139</td>\n",
              "      <td>1</td>\n",
              "      <td>999</td>\n",
              "      <td>0</td>\n",
              "      <td>nonexistent</td>\n",
              "    </tr>\n",
              "    <tr>\n",
              "      <th>3</th>\n",
              "      <td>telephone</td>\n",
              "      <td>may</td>\n",
              "      <td>mon</td>\n",
              "      <td>217</td>\n",
              "      <td>1</td>\n",
              "      <td>999</td>\n",
              "      <td>0</td>\n",
              "      <td>nonexistent</td>\n",
              "    </tr>\n",
              "    <tr>\n",
              "      <th>4</th>\n",
              "      <td>telephone</td>\n",
              "      <td>may</td>\n",
              "      <td>mon</td>\n",
              "      <td>380</td>\n",
              "      <td>1</td>\n",
              "      <td>999</td>\n",
              "      <td>0</td>\n",
              "      <td>nonexistent</td>\n",
              "    </tr>\n",
              "  </tbody>\n",
              "</table>\n",
              "</div>"
            ],
            "text/plain": [
              "     contact month day_of_week  duration  campaign  pdays  previous  \\\n",
              "0  telephone   may         mon       307         1    999         0   \n",
              "1  telephone   may         mon       198         1    999         0   \n",
              "2  telephone   may         mon       139         1    999         0   \n",
              "3  telephone   may         mon       217         1    999         0   \n",
              "4  telephone   may         mon       380         1    999         0   \n",
              "\n",
              "      poutcome  \n",
              "0  nonexistent  \n",
              "1  nonexistent  \n",
              "2  nonexistent  \n",
              "3  nonexistent  \n",
              "4  nonexistent  "
            ]
          },
          "execution_count": 6,
          "metadata": {},
          "output_type": "execute_result"
        }
      ],
      "source": [
        "df2.head()"
      ]
    },
    {
      "cell_type": "code",
      "execution_count": null,
      "metadata": {
        "execution": {
          "iopub.execute_input": "2023-07-31T12:25:02.117558Z",
          "iopub.status.busy": "2023-07-31T12:25:02.117082Z",
          "iopub.status.idle": "2023-07-31T12:25:02.130897Z",
          "shell.execute_reply": "2023-07-31T12:25:02.129401Z",
          "shell.execute_reply.started": "2023-07-31T12:25:02.117520Z"
        },
        "trusted": true,
        "id": "-CwQFqSZMY3z",
        "outputId": "9de750b2-62ec-4892-f5cd-6e7104805bed"
      },
      "outputs": [
        {
          "data": {
            "text/plain": [
              "(37084, 25)"
            ]
          },
          "execution_count": 7,
          "metadata": {},
          "output_type": "execute_result"
        }
      ],
      "source": [
        "df = pd.concat([df1,df2,df3,df4], axis=1)\n",
        "df.shape"
      ]
    },
    {
      "cell_type": "code",
      "execution_count": null,
      "metadata": {
        "execution": {
          "iopub.execute_input": "2023-07-31T12:25:02.960067Z",
          "iopub.status.busy": "2023-07-31T12:25:02.959634Z",
          "iopub.status.idle": "2023-07-31T12:25:02.986872Z",
          "shell.execute_reply": "2023-07-31T12:25:02.985391Z",
          "shell.execute_reply.started": "2023-07-31T12:25:02.960033Z"
        },
        "trusted": true,
        "id": "gvsEoulWMY30",
        "outputId": "12078213-ffaf-4339-891a-ff7969d4d8bf"
      },
      "outputs": [
        {
          "data": {
            "text/html": [
              "<div>\n",
              "<style scoped>\n",
              "    .dataframe tbody tr th:only-of-type {\n",
              "        vertical-align: middle;\n",
              "    }\n",
              "\n",
              "    .dataframe tbody tr th {\n",
              "        vertical-align: top;\n",
              "    }\n",
              "\n",
              "    .dataframe thead th {\n",
              "        text-align: right;\n",
              "    }\n",
              "</style>\n",
              "<table border=\"1\" class=\"dataframe\">\n",
              "  <thead>\n",
              "    <tr style=\"text-align: right;\">\n",
              "      <th></th>\n",
              "      <th>Customer_id</th>\n",
              "      <th>age</th>\n",
              "      <th>job</th>\n",
              "      <th>marital</th>\n",
              "      <th>education</th>\n",
              "      <th>default</th>\n",
              "      <th>housing</th>\n",
              "      <th>loan</th>\n",
              "      <th>Region_Code</th>\n",
              "      <th>State_Code</th>\n",
              "      <th>...</th>\n",
              "      <th>campaign</th>\n",
              "      <th>pdays</th>\n",
              "      <th>previous</th>\n",
              "      <th>poutcome</th>\n",
              "      <th>emp.var.rate</th>\n",
              "      <th>cons.price.idx</th>\n",
              "      <th>cons.conf.idx</th>\n",
              "      <th>euribor3m</th>\n",
              "      <th>nr.employed</th>\n",
              "      <th>y</th>\n",
              "    </tr>\n",
              "  </thead>\n",
              "  <tbody>\n",
              "    <tr>\n",
              "      <th>0</th>\n",
              "      <td>1</td>\n",
              "      <td>56</td>\n",
              "      <td>services</td>\n",
              "      <td>married</td>\n",
              "      <td>high.school</td>\n",
              "      <td>no</td>\n",
              "      <td>no</td>\n",
              "      <td>yes</td>\n",
              "      <td>3</td>\n",
              "      <td>S1</td>\n",
              "      <td>...</td>\n",
              "      <td>1</td>\n",
              "      <td>999</td>\n",
              "      <td>0</td>\n",
              "      <td>nonexistent</td>\n",
              "      <td>1.1</td>\n",
              "      <td>93.994</td>\n",
              "      <td>-36.4</td>\n",
              "      <td>4.857</td>\n",
              "      <td>5191.0</td>\n",
              "      <td>no</td>\n",
              "    </tr>\n",
              "    <tr>\n",
              "      <th>1</th>\n",
              "      <td>2</td>\n",
              "      <td>45</td>\n",
              "      <td>services</td>\n",
              "      <td>married</td>\n",
              "      <td>basic.9y</td>\n",
              "      <td>unknown</td>\n",
              "      <td>no</td>\n",
              "      <td>no</td>\n",
              "      <td>3</td>\n",
              "      <td>S1</td>\n",
              "      <td>...</td>\n",
              "      <td>1</td>\n",
              "      <td>999</td>\n",
              "      <td>0</td>\n",
              "      <td>nonexistent</td>\n",
              "      <td>1.1</td>\n",
              "      <td>93.994</td>\n",
              "      <td>-36.4</td>\n",
              "      <td>4.857</td>\n",
              "      <td>5191.0</td>\n",
              "      <td>no</td>\n",
              "    </tr>\n",
              "    <tr>\n",
              "      <th>2</th>\n",
              "      <td>3</td>\n",
              "      <td>59</td>\n",
              "      <td>admin.</td>\n",
              "      <td>married</td>\n",
              "      <td>professional.course</td>\n",
              "      <td>no</td>\n",
              "      <td>no</td>\n",
              "      <td>no</td>\n",
              "      <td>4</td>\n",
              "      <td>S2</td>\n",
              "      <td>...</td>\n",
              "      <td>1</td>\n",
              "      <td>999</td>\n",
              "      <td>0</td>\n",
              "      <td>nonexistent</td>\n",
              "      <td>1.1</td>\n",
              "      <td>93.994</td>\n",
              "      <td>-36.4</td>\n",
              "      <td>4.857</td>\n",
              "      <td>5191.0</td>\n",
              "      <td>no</td>\n",
              "    </tr>\n",
              "    <tr>\n",
              "      <th>3</th>\n",
              "      <td>4</td>\n",
              "      <td>41</td>\n",
              "      <td>blue-collar</td>\n",
              "      <td>married</td>\n",
              "      <td>unknown</td>\n",
              "      <td>unknown</td>\n",
              "      <td>no</td>\n",
              "      <td>no</td>\n",
              "      <td>3</td>\n",
              "      <td>S3</td>\n",
              "      <td>...</td>\n",
              "      <td>1</td>\n",
              "      <td>999</td>\n",
              "      <td>0</td>\n",
              "      <td>nonexistent</td>\n",
              "      <td>1.1</td>\n",
              "      <td>93.994</td>\n",
              "      <td>-36.4</td>\n",
              "      <td>4.857</td>\n",
              "      <td>5191.0</td>\n",
              "      <td>no</td>\n",
              "    </tr>\n",
              "    <tr>\n",
              "      <th>4</th>\n",
              "      <td>5</td>\n",
              "      <td>24</td>\n",
              "      <td>technician</td>\n",
              "      <td>single</td>\n",
              "      <td>professional.course</td>\n",
              "      <td>no</td>\n",
              "      <td>yes</td>\n",
              "      <td>no</td>\n",
              "      <td>3</td>\n",
              "      <td>S3</td>\n",
              "      <td>...</td>\n",
              "      <td>1</td>\n",
              "      <td>999</td>\n",
              "      <td>0</td>\n",
              "      <td>nonexistent</td>\n",
              "      <td>1.1</td>\n",
              "      <td>93.994</td>\n",
              "      <td>-36.4</td>\n",
              "      <td>4.857</td>\n",
              "      <td>5191.0</td>\n",
              "      <td>no</td>\n",
              "    </tr>\n",
              "  </tbody>\n",
              "</table>\n",
              "<p>5 rows × 25 columns</p>\n",
              "</div>"
            ],
            "text/plain": [
              "   Customer_id  age          job  marital            education  default  \\\n",
              "0            1   56     services  married          high.school       no   \n",
              "1            2   45     services  married             basic.9y  unknown   \n",
              "2            3   59       admin.  married  professional.course       no   \n",
              "3            4   41  blue-collar  married              unknown  unknown   \n",
              "4            5   24   technician   single  professional.course       no   \n",
              "\n",
              "  housing loan Region_Code State_Code  ... campaign pdays previous  \\\n",
              "0      no  yes           3         S1  ...        1   999        0   \n",
              "1      no   no           3         S1  ...        1   999        0   \n",
              "2      no   no           4         S2  ...        1   999        0   \n",
              "3      no   no           3         S3  ...        1   999        0   \n",
              "4     yes   no           3         S3  ...        1   999        0   \n",
              "\n",
              "      poutcome  emp.var.rate  cons.price.idx  cons.conf.idx  euribor3m  \\\n",
              "0  nonexistent           1.1          93.994          -36.4      4.857   \n",
              "1  nonexistent           1.1          93.994          -36.4      4.857   \n",
              "2  nonexistent           1.1          93.994          -36.4      4.857   \n",
              "3  nonexistent           1.1          93.994          -36.4      4.857   \n",
              "4  nonexistent           1.1          93.994          -36.4      4.857   \n",
              "\n",
              "  nr.employed   y  \n",
              "0      5191.0  no  \n",
              "1      5191.0  no  \n",
              "2      5191.0  no  \n",
              "3      5191.0  no  \n",
              "4      5191.0  no  \n",
              "\n",
              "[5 rows x 25 columns]"
            ]
          },
          "execution_count": 8,
          "metadata": {},
          "output_type": "execute_result"
        }
      ],
      "source": [
        "df.head()"
      ]
    },
    {
      "cell_type": "markdown",
      "metadata": {
        "id": "KU6hdmCuMY31"
      },
      "source": [
        "<h3>now our required dataframe is ready to use"
      ]
    },
    {
      "cell_type": "markdown",
      "metadata": {
        "id": "Y0ZUYrbmMY32"
      },
      "source": [
        "<h1>DATA UNDERSTANDING"
      ]
    },
    {
      "cell_type": "code",
      "execution_count": null,
      "metadata": {
        "execution": {
          "iopub.execute_input": "2023-07-31T12:25:02.989349Z",
          "iopub.status.busy": "2023-07-31T12:25:02.988991Z",
          "iopub.status.idle": "2023-07-31T12:25:03.087461Z",
          "shell.execute_reply": "2023-07-31T12:25:03.085890Z",
          "shell.execute_reply.started": "2023-07-31T12:25:02.989303Z"
        },
        "trusted": true,
        "id": "xcCslR80MY33",
        "outputId": "07e2c487-7f5d-46a0-f495-ee7334a3d565"
      },
      "outputs": [
        {
          "name": "stdout",
          "output_type": "stream",
          "text": [
            "<class 'pandas.core.frame.DataFrame'>\n",
            "RangeIndex: 37084 entries, 0 to 37083\n",
            "Data columns (total 25 columns):\n",
            " #   Column          Non-Null Count  Dtype  \n",
            "---  ------          --------------  -----  \n",
            " 0   Customer_id     37084 non-null  int64  \n",
            " 1   age             37084 non-null  int64  \n",
            " 2   job             37084 non-null  object \n",
            " 3   marital         37084 non-null  object \n",
            " 4   education       37084 non-null  object \n",
            " 5   default         37084 non-null  object \n",
            " 6   housing         37084 non-null  object \n",
            " 7   loan            37084 non-null  object \n",
            " 8   Region_Code     37084 non-null  object \n",
            " 9   State_Code      37084 non-null  object \n",
            " 10  City_Code       37084 non-null  object \n",
            " 11  contact         37084 non-null  object \n",
            " 12  month           37084 non-null  object \n",
            " 13  day_of_week     37084 non-null  object \n",
            " 14  duration        37084 non-null  int64  \n",
            " 15  campaign        37084 non-null  int64  \n",
            " 16  pdays           37084 non-null  int64  \n",
            " 17  previous        37084 non-null  int64  \n",
            " 18  poutcome        37084 non-null  object \n",
            " 19  emp.var.rate    37084 non-null  float64\n",
            " 20  cons.price.idx  37084 non-null  float64\n",
            " 21  cons.conf.idx   37084 non-null  float64\n",
            " 22  euribor3m       37084 non-null  float64\n",
            " 23  nr.employed     37084 non-null  float64\n",
            " 24  y               37084 non-null  object \n",
            "dtypes: float64(5), int64(6), object(14)\n",
            "memory usage: 7.1+ MB\n"
          ]
        }
      ],
      "source": [
        "df.info()"
      ]
    },
    {
      "cell_type": "code",
      "execution_count": null,
      "metadata": {
        "execution": {
          "iopub.execute_input": "2023-07-31T12:25:03.089337Z",
          "iopub.status.busy": "2023-07-31T12:25:03.088952Z",
          "iopub.status.idle": "2023-07-31T12:25:03.150444Z",
          "shell.execute_reply": "2023-07-31T12:25:03.149322Z",
          "shell.execute_reply.started": "2023-07-31T12:25:03.089280Z"
        },
        "trusted": true,
        "id": "JZF8XobqMY34",
        "outputId": "a1f64b3c-0c3c-4f65-f64a-4bdf70c3279a"
      },
      "outputs": [
        {
          "data": {
            "text/html": [
              "<div>\n",
              "<style scoped>\n",
              "    .dataframe tbody tr th:only-of-type {\n",
              "        vertical-align: middle;\n",
              "    }\n",
              "\n",
              "    .dataframe tbody tr th {\n",
              "        vertical-align: top;\n",
              "    }\n",
              "\n",
              "    .dataframe thead th {\n",
              "        text-align: right;\n",
              "    }\n",
              "</style>\n",
              "<table border=\"1\" class=\"dataframe\">\n",
              "  <thead>\n",
              "    <tr style=\"text-align: right;\">\n",
              "      <th></th>\n",
              "      <th>Customer_id</th>\n",
              "      <th>age</th>\n",
              "      <th>duration</th>\n",
              "      <th>campaign</th>\n",
              "      <th>pdays</th>\n",
              "      <th>previous</th>\n",
              "      <th>emp.var.rate</th>\n",
              "      <th>cons.price.idx</th>\n",
              "      <th>cons.conf.idx</th>\n",
              "      <th>euribor3m</th>\n",
              "      <th>nr.employed</th>\n",
              "    </tr>\n",
              "  </thead>\n",
              "  <tbody>\n",
              "    <tr>\n",
              "      <th>count</th>\n",
              "      <td>37084.000000</td>\n",
              "      <td>37084.000000</td>\n",
              "      <td>37084.000000</td>\n",
              "      <td>37084.000000</td>\n",
              "      <td>37084.000000</td>\n",
              "      <td>37084.000000</td>\n",
              "      <td>37084.000000</td>\n",
              "      <td>37084.000000</td>\n",
              "      <td>37084.000000</td>\n",
              "      <td>37084.000000</td>\n",
              "      <td>37084.000000</td>\n",
              "    </tr>\n",
              "    <tr>\n",
              "      <th>mean</th>\n",
              "      <td>18542.500000</td>\n",
              "      <td>40.042714</td>\n",
              "      <td>258.237946</td>\n",
              "      <td>2.569545</td>\n",
              "      <td>962.530849</td>\n",
              "      <td>0.172986</td>\n",
              "      <td>0.082669</td>\n",
              "      <td>93.576076</td>\n",
              "      <td>-40.505183</td>\n",
              "      <td>3.621668</td>\n",
              "      <td>5167.058664</td>\n",
              "    </tr>\n",
              "    <tr>\n",
              "      <th>std</th>\n",
              "      <td>10705.373028</td>\n",
              "      <td>10.432965</td>\n",
              "      <td>258.730909</td>\n",
              "      <td>2.770611</td>\n",
              "      <td>186.773063</td>\n",
              "      <td>0.495681</td>\n",
              "      <td>1.568997</td>\n",
              "      <td>0.578493</td>\n",
              "      <td>4.622045</td>\n",
              "      <td>1.733972</td>\n",
              "      <td>72.196605</td>\n",
              "    </tr>\n",
              "    <tr>\n",
              "      <th>min</th>\n",
              "      <td>1.000000</td>\n",
              "      <td>17.000000</td>\n",
              "      <td>0.000000</td>\n",
              "      <td>1.000000</td>\n",
              "      <td>0.000000</td>\n",
              "      <td>0.000000</td>\n",
              "      <td>-3.400000</td>\n",
              "      <td>92.201000</td>\n",
              "      <td>-50.800000</td>\n",
              "      <td>0.634000</td>\n",
              "      <td>4963.600000</td>\n",
              "    </tr>\n",
              "    <tr>\n",
              "      <th>25%</th>\n",
              "      <td>9271.750000</td>\n",
              "      <td>32.000000</td>\n",
              "      <td>102.000000</td>\n",
              "      <td>1.000000</td>\n",
              "      <td>999.000000</td>\n",
              "      <td>0.000000</td>\n",
              "      <td>-1.800000</td>\n",
              "      <td>93.075000</td>\n",
              "      <td>-42.700000</td>\n",
              "      <td>1.344000</td>\n",
              "      <td>5099.100000</td>\n",
              "    </tr>\n",
              "    <tr>\n",
              "      <th>50%</th>\n",
              "      <td>18542.500000</td>\n",
              "      <td>38.000000</td>\n",
              "      <td>180.000000</td>\n",
              "      <td>2.000000</td>\n",
              "      <td>999.000000</td>\n",
              "      <td>0.000000</td>\n",
              "      <td>1.100000</td>\n",
              "      <td>93.749000</td>\n",
              "      <td>-41.800000</td>\n",
              "      <td>4.857000</td>\n",
              "      <td>5191.000000</td>\n",
              "    </tr>\n",
              "    <tr>\n",
              "      <th>75%</th>\n",
              "      <td>27813.250000</td>\n",
              "      <td>47.000000</td>\n",
              "      <td>319.250000</td>\n",
              "      <td>3.000000</td>\n",
              "      <td>999.000000</td>\n",
              "      <td>0.000000</td>\n",
              "      <td>1.400000</td>\n",
              "      <td>93.994000</td>\n",
              "      <td>-36.400000</td>\n",
              "      <td>4.961000</td>\n",
              "      <td>5228.100000</td>\n",
              "    </tr>\n",
              "    <tr>\n",
              "      <th>max</th>\n",
              "      <td>37084.000000</td>\n",
              "      <td>98.000000</td>\n",
              "      <td>4918.000000</td>\n",
              "      <td>56.000000</td>\n",
              "      <td>999.000000</td>\n",
              "      <td>7.000000</td>\n",
              "      <td>1.400000</td>\n",
              "      <td>94.767000</td>\n",
              "      <td>-26.900000</td>\n",
              "      <td>5.045000</td>\n",
              "      <td>5228.100000</td>\n",
              "    </tr>\n",
              "  </tbody>\n",
              "</table>\n",
              "</div>"
            ],
            "text/plain": [
              "        Customer_id           age      duration      campaign         pdays  \\\n",
              "count  37084.000000  37084.000000  37084.000000  37084.000000  37084.000000   \n",
              "mean   18542.500000     40.042714    258.237946      2.569545    962.530849   \n",
              "std    10705.373028     10.432965    258.730909      2.770611    186.773063   \n",
              "min        1.000000     17.000000      0.000000      1.000000      0.000000   \n",
              "25%     9271.750000     32.000000    102.000000      1.000000    999.000000   \n",
              "50%    18542.500000     38.000000    180.000000      2.000000    999.000000   \n",
              "75%    27813.250000     47.000000    319.250000      3.000000    999.000000   \n",
              "max    37084.000000     98.000000   4918.000000     56.000000    999.000000   \n",
              "\n",
              "           previous  emp.var.rate  cons.price.idx  cons.conf.idx  \\\n",
              "count  37084.000000  37084.000000    37084.000000   37084.000000   \n",
              "mean       0.172986      0.082669       93.576076     -40.505183   \n",
              "std        0.495681      1.568997        0.578493       4.622045   \n",
              "min        0.000000     -3.400000       92.201000     -50.800000   \n",
              "25%        0.000000     -1.800000       93.075000     -42.700000   \n",
              "50%        0.000000      1.100000       93.749000     -41.800000   \n",
              "75%        0.000000      1.400000       93.994000     -36.400000   \n",
              "max        7.000000      1.400000       94.767000     -26.900000   \n",
              "\n",
              "          euribor3m   nr.employed  \n",
              "count  37084.000000  37084.000000  \n",
              "mean       3.621668   5167.058664  \n",
              "std        1.733972     72.196605  \n",
              "min        0.634000   4963.600000  \n",
              "25%        1.344000   5099.100000  \n",
              "50%        4.857000   5191.000000  \n",
              "75%        4.961000   5228.100000  \n",
              "max        5.045000   5228.100000  "
            ]
          },
          "execution_count": 10,
          "metadata": {},
          "output_type": "execute_result"
        }
      ],
      "source": [
        "df.describe()"
      ]
    },
    {
      "cell_type": "code",
      "execution_count": null,
      "metadata": {
        "execution": {
          "iopub.execute_input": "2023-07-31T12:25:03.152811Z",
          "iopub.status.busy": "2023-07-31T12:25:03.151896Z",
          "iopub.status.idle": "2023-07-31T12:25:03.197358Z",
          "shell.execute_reply": "2023-07-31T12:25:03.195225Z",
          "shell.execute_reply.started": "2023-07-31T12:25:03.152777Z"
        },
        "trusted": true,
        "id": "GovtDMKPMY36",
        "outputId": "1b8733b0-3e00-4e10-ee0b-531eb1364995"
      },
      "outputs": [
        {
          "name": "stdout",
          "output_type": "stream",
          "text": [
            "-------Region_Code--------\n",
            "4     11884\n",
            "2     10558\n",
            "1      8590\n",
            "3      5992\n",
            "Na       60\n",
            "Name: Region_Code, dtype: int64\n",
            "-------job--------\n",
            "admin.           9420\n",
            "blue-collar      8314\n",
            "technician       6096\n",
            "services         3547\n",
            "management       2637\n",
            "retired          1541\n",
            "entrepreneur     1309\n",
            "self-employed    1276\n",
            "housemaid         946\n",
            "unemployed        925\n",
            "student           767\n",
            "unknown           306\n",
            "Name: job, dtype: int64\n",
            "-------marital--------\n",
            "married     22479\n",
            "single      10407\n",
            "divorced     4126\n",
            "unknown        72\n",
            "Name: marital, dtype: int64\n",
            "-------education--------\n",
            "university.degree      10971\n",
            "high.school             8542\n",
            "basic.9y                5421\n",
            "professional.course     4746\n",
            "basic.4y                3765\n",
            "basic.6y                2074\n",
            "unknown                 1549\n",
            "illiterate                16\n",
            "Name: education, dtype: int64\n",
            "-------default--------\n",
            "no         29382\n",
            "unknown     7700\n",
            "yes            2\n",
            "Name: default, dtype: int64\n",
            "-------housing--------\n",
            "yes        19433\n",
            "no         16769\n",
            "unknown      882\n",
            "Name: housing, dtype: int64\n",
            "-------loan--------\n",
            "no         30561\n",
            "yes         5641\n",
            "unknown      882\n",
            "Name: loan, dtype: int64\n",
            "-------contact--------\n",
            "cellular     23522\n",
            "telephone    13562\n",
            "Name: contact, dtype: int64\n",
            "-------month--------\n",
            "may    12420\n",
            "jul     6430\n",
            "aug     5562\n",
            "jun     4786\n",
            "nov     3705\n",
            "apr     2388\n",
            "oct      630\n",
            "sep      510\n",
            "mar      487\n",
            "dec      166\n",
            "Name: month, dtype: int64\n",
            "-------day_of_week--------\n",
            "thu    7778\n",
            "mon    7671\n",
            "wed    7341\n",
            "tue    7262\n",
            "fri    7032\n",
            "Name: day_of_week, dtype: int64\n",
            "-------poutcome--------\n",
            "nonexistent    32023\n",
            "failure         3822\n",
            "success         1239\n",
            "Name: poutcome, dtype: int64\n",
            "-------y--------\n",
            "no     32876\n",
            "yes     4208\n",
            "Name: y, dtype: int64\n"
          ]
        }
      ],
      "source": [
        "categorical_cols = ['Region_Code','job','marital','education','default','housing','loan','contact','month','day_of_week','poutcome','y']\n",
        "\n",
        "for cat in categorical_cols:\n",
        "    print(f\"-------{cat}--------\")\n",
        "    print(df[cat].value_counts())"
      ]
    },
    {
      "cell_type": "markdown",
      "metadata": {
        "id": "o9oOKk5-MY37"
      },
      "source": [
        "<h3>in most of the columns there is an unknown category"
      ]
    },
    {
      "cell_type": "markdown",
      "metadata": {
        "id": "CFm1t22IMY37"
      },
      "source": [
        "<h1>DATA CLEANING"
      ]
    },
    {
      "cell_type": "code",
      "execution_count": null,
      "metadata": {
        "execution": {
          "iopub.execute_input": "2023-07-31T12:25:03.212755Z",
          "iopub.status.busy": "2023-07-31T12:25:03.212329Z",
          "iopub.status.idle": "2023-07-31T12:25:03.302678Z",
          "shell.execute_reply": "2023-07-31T12:25:03.301429Z",
          "shell.execute_reply.started": "2023-07-31T12:25:03.212717Z"
        },
        "trusted": true,
        "id": "BdqHzA3FMY37",
        "outputId": "cbde3990-c4c7-45a5-8d5f-d975ef8f1ac3"
      },
      "outputs": [
        {
          "data": {
            "text/plain": [
              "Customer_id       0\n",
              "age               0\n",
              "job               0\n",
              "marital           0\n",
              "education         0\n",
              "default           0\n",
              "housing           0\n",
              "loan              0\n",
              "Region_Code       0\n",
              "State_Code        0\n",
              "City_Code         0\n",
              "contact           0\n",
              "month             0\n",
              "day_of_week       0\n",
              "duration          0\n",
              "campaign          0\n",
              "pdays             0\n",
              "previous          0\n",
              "poutcome          0\n",
              "emp.var.rate      0\n",
              "cons.price.idx    0\n",
              "cons.conf.idx     0\n",
              "euribor3m         0\n",
              "nr.employed       0\n",
              "y                 0\n",
              "dtype: int64"
            ]
          },
          "execution_count": 12,
          "metadata": {},
          "output_type": "execute_result"
        }
      ],
      "source": [
        "df.isnull().sum()"
      ]
    },
    {
      "cell_type": "markdown",
      "metadata": {
        "id": "3xb747oGMY38"
      },
      "source": [
        "<h3>there is no null value"
      ]
    },
    {
      "cell_type": "markdown",
      "metadata": {
        "id": "9LxBO8h4MY38"
      },
      "source": [
        "<h1>DATA VISUALIZATION & EDA"
      ]
    },
    {
      "cell_type": "code",
      "execution_count": null,
      "metadata": {
        "execution": {
          "iopub.execute_input": "2023-07-31T12:25:03.306135Z",
          "iopub.status.busy": "2023-07-31T12:25:03.304908Z",
          "iopub.status.idle": "2023-07-31T12:25:03.312712Z",
          "shell.execute_reply": "2023-07-31T12:25:03.311058Z",
          "shell.execute_reply.started": "2023-07-31T12:25:03.306080Z"
        },
        "trusted": true,
        "id": "KWu99LXrMY39"
      },
      "outputs": [],
      "source": [
        "import matplotlib.pyplot as plt\n",
        "import seaborn as sn"
      ]
    },
    {
      "cell_type": "code",
      "execution_count": null,
      "metadata": {
        "execution": {
          "iopub.execute_input": "2023-07-31T12:25:03.712987Z",
          "iopub.status.busy": "2023-07-31T12:25:03.712603Z",
          "iopub.status.idle": "2023-07-31T12:25:04.502002Z",
          "shell.execute_reply": "2023-07-31T12:25:04.500830Z",
          "shell.execute_reply.started": "2023-07-31T12:25:03.712957Z"
        },
        "trusted": true,
        "id": "SNY0MjIDMY39",
        "outputId": "4f51c43d-9f94-4eca-d782-e6265cfd3b2f"
      },
      "outputs": [
        {
          "data": {
            "text/plain": [
              "<AxesSubplot:xlabel='duration', ylabel='job'>"
            ]
          },
          "execution_count": 14,
          "metadata": {},
          "output_type": "execute_result"
        },
        {
          "data": {
            "image/png": "[encoded data removed]",
            "text/plain": [
              "<Figure size 720x1080 with 1 Axes>"
            ]
          },
          "metadata": {
            "needs_background": "light"
          },
          "output_type": "display_data"
        }
      ],
      "source": [
        "plt.figure(figsize=(10,15))\n",
        "sn.boxplot(data=df, x='duration', y='job', hue = 'y')"
      ]
    },
    {
      "cell_type": "markdown",
      "metadata": {
        "id": "E29EX4L9MY3-"
      },
      "source": [
        "<h3>- people who deposit have more duration of calls\n",
        "<h3>- where bluecollar, self-employed have more duration of calls in case of deposited category"
      ]
    },
    {
      "cell_type": "code",
      "execution_count": null,
      "metadata": {
        "execution": {
          "iopub.execute_input": "2023-07-31T12:25:04.505497Z",
          "iopub.status.busy": "2023-07-31T12:25:04.504471Z",
          "iopub.status.idle": "2023-07-31T12:25:05.489781Z",
          "shell.execute_reply": "2023-07-31T12:25:05.488432Z",
          "shell.execute_reply.started": "2023-07-31T12:25:04.505452Z"
        },
        "trusted": true,
        "id": "wr2hZnD2MY3-",
        "outputId": "5b0d213c-79f4-4ea9-8f73-9744ec377a3a"
      },
      "outputs": [
        {
          "data": {
            "text/plain": [
              "<seaborn.axisgrid.FacetGrid at 0x25b3a36f640>"
            ]
          },
          "execution_count": 15,
          "metadata": {},
          "output_type": "execute_result"
        },
        {
          "data": {
            "image/png": "[encoded data removed]",
            "text/plain": [
              "<Figure size 720x360 with 2 Axes>"
            ]
          },
          "metadata": {
            "needs_background": "light"
          },
          "output_type": "display_data"
        }
      ],
      "source": [
        "sn.relplot(data=df, x='campaign',y='duration', col='y', color='darkgreen')"
      ]
    },
    {
      "cell_type": "code",
      "execution_count": null,
      "metadata": {
        "execution": {
          "iopub.execute_input": "2023-07-31T12:25:05.492018Z",
          "iopub.status.busy": "2023-07-31T12:25:05.491601Z",
          "iopub.status.idle": "2023-07-31T12:25:07.627328Z",
          "shell.execute_reply": "2023-07-31T12:25:07.626373Z",
          "shell.execute_reply.started": "2023-07-31T12:25:05.491982Z"
        },
        "trusted": true,
        "id": "mmuWEce0MY3-",
        "outputId": "2fea2a47-7fef-4e96-9c26-676e2fd7f2d3"
      },
      "outputs": [
        {
          "data": {
            "text/plain": [
              "<AxesSubplot:xlabel='campaign', ylabel='month'>"
            ]
          },
          "execution_count": 16,
          "metadata": {},
          "output_type": "execute_result"
        },
        {
          "data": {
            "image/png": "[encoded data removed]",
            "text/plain": [
              "<Figure size 432x288 with 1 Axes>"
            ]
          },
          "metadata": {
            "needs_background": "light"
          },
          "output_type": "display_data"
        }
      ],
      "source": [
        "sn.lineplot(data=df , x='campaign', y=\"month\", hue=\"y\")"
      ]
    },
    {
      "cell_type": "markdown",
      "metadata": {
        "id": "8B8jOpGQMY3_"
      },
      "source": [
        "<h3>For the customers who have deposited , no of campaign done is quiet less < 25 campaigns"
      ]
    },
    {
      "cell_type": "code",
      "execution_count": null,
      "metadata": {
        "execution": {
          "iopub.execute_input": "2023-07-31T12:25:07.629476Z",
          "iopub.status.busy": "2023-07-31T12:25:07.628518Z",
          "iopub.status.idle": "2023-07-31T12:25:07.660670Z",
          "shell.execute_reply": "2023-07-31T12:25:07.659805Z",
          "shell.execute_reply.started": "2023-07-31T12:25:07.629438Z"
        },
        "trusted": true,
        "id": "FA4LzrrnMY3_",
        "outputId": "ac6974b4-7ac8-40ee-f16f-055d28f3ebdf"
      },
      "outputs": [
        {
          "data": {
            "text/plain": [
              "count    4208.000000\n",
              "mean      553.544439\n",
              "std       398.822898\n",
              "min        37.000000\n",
              "25%       255.750000\n",
              "50%       452.000000\n",
              "75%       741.000000\n",
              "max      4199.000000\n",
              "Name: duration, dtype: float64"
            ]
          },
          "execution_count": 17,
          "metadata": {},
          "output_type": "execute_result"
        }
      ],
      "source": [
        "df[df.y == 'yes'].duration.describe()"
      ]
    },
    {
      "cell_type": "markdown",
      "metadata": {
        "id": "Oz3nMrO0MY4A"
      },
      "source": [
        "<h3>Outcomes vs some categorical columns"
      ]
    },
    {
      "cell_type": "code",
      "execution_count": null,
      "metadata": {
        "execution": {
          "iopub.execute_input": "2023-07-31T12:25:07.663569Z",
          "iopub.status.busy": "2023-07-31T12:25:07.663010Z",
          "iopub.status.idle": "2023-07-31T12:25:09.962229Z",
          "shell.execute_reply": "2023-07-31T12:25:09.961083Z",
          "shell.execute_reply.started": "2023-07-31T12:25:07.663534Z"
        },
        "trusted": true,
        "id": "n1W-ikXLMY4A",
        "outputId": "260919e1-9ba2-4d05-b941-352246bb7fce"
      },
      "outputs": [
        {
          "data": {
            "image/png": "[encoded data removed]",
            "text/plain": [
              "<Figure size 720x1080 with 4 Axes>"
            ]
          },
          "metadata": {
            "needs_background": "light"
          },
          "output_type": "display_data"
        }
      ],
      "source": [
        "plt.figure(figsize=(10,15))\n",
        "categorical_columns=['marital','month','job','education']\n",
        "\n",
        "\n",
        "for i, variable in enumerate(categorical_columns):\n",
        "                     plt.subplot(4,2,i+1)\n",
        "                     order = df[variable].value_counts(ascending=True).index\n",
        "                     ax = sn.countplot(data = df, x=variable, hue='y' , order=order)\n",
        "                     for p in ax.patches:\n",
        "                           percentage = '{:.1f}%'.format(100 * p.get_height()/len(df[variable]))\n",
        "                           x = p.get_x() + p.get_width() / 2 - 0.05\n",
        "                           y = p.get_y() + p.get_height() +1\n",
        "                           plt.annotate(percentage, (x, y),ha='center', rotation=45)\n",
        "                     plt.xticks(rotation=90)\n",
        "                     plt.tight_layout()\n",
        "                     plt.title(variable)"
      ]
    },
    {
      "cell_type": "markdown",
      "metadata": {
        "id": "2_niT5N2MY4A"
      },
      "source": [
        "- <b>married</b> customers have done most deposit i.e. 54%\n",
        "- 31% of customers have done most deposit whom campaign was done in month of <b>May</b>\n",
        "- 25% of customers deposites are done by <b>university-degree students</b>\n",
        "- Among job <b>personel admin</b> and <b>blue_collar</b> category have done approx 20% deposits"
      ]
    },
    {
      "cell_type": "code",
      "execution_count": null,
      "metadata": {
        "execution": {
          "iopub.execute_input": "2023-07-31T12:25:09.964163Z",
          "iopub.status.busy": "2023-07-31T12:25:09.963737Z",
          "iopub.status.idle": "2023-07-31T12:26:18.214379Z",
          "shell.execute_reply": "2023-07-31T12:26:18.213047Z",
          "shell.execute_reply.started": "2023-07-31T12:25:09.964132Z"
        },
        "trusted": true,
        "id": "eD9dF3lnMY4B",
        "outputId": "d1f8eeda-c569-4181-e696-3dafe20d81a3"
      },
      "outputs": [
        {
          "data": {
            "text/plain": [
              "<BarContainer object of 37084 artists>"
            ]
          },
          "execution_count": 19,
          "metadata": {},
          "output_type": "execute_result"
        },
        {
          "data": {
            "image/png": "[encoded data removed]",
            "text/plain": [
              "<Figure size 432x288 with 1 Axes>"
            ]
          },
          "metadata": {
            "needs_background": "light"
          },
          "output_type": "display_data"
        }
      ],
      "source": [
        "plt.bar(df.month, df.campaign)"
      ]
    },
    {
      "cell_type": "code",
      "execution_count": null,
      "metadata": {
        "execution": {
          "iopub.execute_input": "2023-07-31T12:26:18.216958Z",
          "iopub.status.busy": "2023-07-31T12:26:18.215893Z",
          "iopub.status.idle": "2023-07-31T12:26:18.229848Z",
          "shell.execute_reply": "2023-07-31T12:26:18.228165Z",
          "shell.execute_reply.started": "2023-07-31T12:26:18.216913Z"
        },
        "trusted": true,
        "id": "S0Gonmz_MY4B",
        "outputId": "38b01f90-c5d4-4315-ef9c-b9666e7423e1"
      },
      "outputs": [
        {
          "data": {
            "text/plain": [
              "0        4.857\n",
              "1        4.857\n",
              "2        4.857\n",
              "3        4.857\n",
              "4        4.857\n",
              "         ...  \n",
              "37079    1.028\n",
              "37080    1.028\n",
              "37081    1.028\n",
              "37082    1.028\n",
              "37083    1.028\n",
              "Name: euribor3m, Length: 37084, dtype: float64"
            ]
          },
          "execution_count": 20,
          "metadata": {},
          "output_type": "execute_result"
        }
      ],
      "source": [
        "df.euribor3m"
      ]
    },
    {
      "cell_type": "code",
      "execution_count": null,
      "metadata": {
        "execution": {
          "iopub.execute_input": "2023-07-31T12:26:18.231752Z",
          "iopub.status.busy": "2023-07-31T12:26:18.231195Z",
          "iopub.status.idle": "2023-07-31T12:26:21.283043Z",
          "shell.execute_reply": "2023-07-31T12:26:21.281635Z",
          "shell.execute_reply.started": "2023-07-31T12:26:18.231702Z"
        },
        "trusted": true,
        "id": "woMmKrvnMY4B",
        "outputId": "f7af7f52-93a7-48d8-d597-18459867ead0"
      },
      "outputs": [
        {
          "data": {
            "image/png": "[encoded data removed]",
            "text/plain": [
              "<Figure size 720x1800 with 5 Axes>"
            ]
          },
          "metadata": {},
          "output_type": "display_data"
        }
      ],
      "source": [
        "plt.style.use('ggplot')\n",
        "\n",
        "columns = ['emp.var.rate','cons.price.idx','cons.conf.idx','nr.employed','euribor3m']\n",
        "plt.figure(figsize=(10,25))\n",
        "\n",
        "for i, variable in enumerate(columns):\n",
        "    plt.subplot(10,2,i+1)\n",
        "    sn.histplot(df[variable],kde=True,color='grey')\n",
        "    plt.tight_layout()\n",
        "    plt.title(variable)"
      ]
    },
    {
      "cell_type": "code",
      "execution_count": null,
      "metadata": {
        "execution": {
          "iopub.execute_input": "2023-07-31T12:26:21.285765Z",
          "iopub.status.busy": "2023-07-31T12:26:21.285342Z",
          "iopub.status.idle": "2023-07-31T12:26:21.585588Z",
          "shell.execute_reply": "2023-07-31T12:26:21.584372Z",
          "shell.execute_reply.started": "2023-07-31T12:26:21.285727Z"
        },
        "trusted": true,
        "id": "BsvBczu3MY4C",
        "outputId": "8dc70c56-af97-4535-eb41-1d9f32244908"
      },
      "outputs": [
        {
          "data": {
            "text/plain": [
              "<AxesSubplot:xlabel='cons.price.idx', ylabel='marital'>"
            ]
          },
          "execution_count": 22,
          "metadata": {},
          "output_type": "execute_result"
        },
        {
          "data": {
            "image/png": "[encoded data removed]",
            "text/plain": [
              "<Figure size 432x288 with 1 Axes>"
            ]
          },
          "metadata": {},
          "output_type": "display_data"
        }
      ],
      "source": [
        "sn.boxplot( y=df[\"marital\"], x=df[\"cons.price.idx\"] )\n"
      ]
    },
    {
      "cell_type": "markdown",
      "metadata": {
        "id": "NV60doiAMY4C"
      },
      "source": [
        "<h3>Final Insights</h3>\n",
        "\n",
        "- <b>married</b> customers have high deposites followed by <b>singles</b>\n",
        "- During <b>may</b> month most more deposits\n",
        "- <b>University-degree</b> students have most deposits followed by <b>highschool</b>\n",
        "- <b>admin</b> have most deposits followed by <b>blue collars</b>"
      ]
    },
    {
      "cell_type": "markdown",
      "metadata": {
        "id": "jMiuTXnTMY4C"
      },
      "source": [
        "<h1>Correlation matrix"
      ]
    },
    {
      "cell_type": "code",
      "execution_count": null,
      "metadata": {
        "execution": {
          "iopub.execute_input": "2023-07-31T12:26:21.587613Z",
          "iopub.status.busy": "2023-07-31T12:26:21.587236Z",
          "iopub.status.idle": "2023-07-31T12:26:22.318596Z",
          "shell.execute_reply": "2023-07-31T12:26:22.317395Z",
          "shell.execute_reply.started": "2023-07-31T12:26:21.587581Z"
        },
        "trusted": true,
        "id": "MFQBMbzPMY4D",
        "outputId": "096729f3-5fbd-403d-886c-b6131f414b3d"
      },
      "outputs": [
        {
          "data": {
            "image/png": "[encoded data removed]",
            "text/plain": [
              "<Figure size 720x720 with 2 Axes>"
            ]
          },
          "metadata": {},
          "output_type": "display_data"
        }
      ],
      "source": [
        "_,ax=plt.subplots(figsize=(10,10))\n",
        "sn.heatmap(df.corr(),annot=True)\n",
        "plt.show()"
      ]
    },
    {
      "cell_type": "code",
      "execution_count": null,
      "metadata": {
        "execution": {
          "iopub.execute_input": "2023-07-31T12:26:22.321081Z",
          "iopub.status.busy": "2023-07-31T12:26:22.320305Z",
          "iopub.status.idle": "2023-07-31T12:26:22.349882Z",
          "shell.execute_reply": "2023-07-31T12:26:22.348427Z",
          "shell.execute_reply.started": "2023-07-31T12:26:22.321043Z"
        },
        "trusted": true,
        "id": "5wup42v1MY4D",
        "outputId": "ab168774-0e2b-4941-cf46-3d37bed88b00"
      },
      "outputs": [
        {
          "name": "stdout",
          "output_type": "stream",
          "text": [
            "Top correlated columns with campaign :\n",
            "emp.var.rate      0.150390\n",
            "nr.employed       0.143609\n",
            "euribor3m         0.134640\n",
            "cons.price.idx    0.126598\n",
            "Customer_id       0.092179\n",
            "previous          0.078300\n",
            "duration          0.072291\n",
            "Name: campaign, dtype: float64\n"
          ]
        }
      ],
      "source": [
        "target_column = 'campaign'\n",
        "\n",
        "# Calculate the correlation matrix\n",
        "correlation_matrix = df.corr()\n",
        "\n",
        "# Find the correlation with the target column\n",
        "correlation_with_target_column = correlation_matrix[target_column].drop(target_column)\n",
        "\n",
        "# Find the top correlated columns\n",
        "top_correlated_columns = correlation_with_target_column.abs().nlargest(7)\n",
        "\n",
        "print(\"Top correlated columns with\", target_column, \":\")\n",
        "print(top_correlated_columns)\n"
      ]
    },
    {
      "cell_type": "markdown",
      "metadata": {
        "id": "E1NqTnhWMY4D"
      },
      "source": [
        "- There are correlations among the indicators.\n",
        "- The number of employees rate is highly correlated with the employee variation rate. This suggests that when the number of employees in a company changes significantly (i.e., high employee variation rate), it tends to be correlated with changes in the overall number of employees.\n",
        "- The consumer price index is highly correlated with bank interest rates. Specifically, when the consumer price index is higher (indicating higher inflation), the bank interest rates tend to be higher as well. This relationship is often observed because central banks might raise interest rates to control inflation.\n",
        "- Employee variation rate also correlates with bank interest rates, which means that there is some relationship between changes in the number of employees and changes in bank interest rates. This correlation suggests that economic factors influencing employment levels may also impact interest rates."
      ]
    },
    {
      "cell_type": "code",
      "execution_count": null,
      "metadata": {
        "execution": {
          "iopub.execute_input": "2023-07-31T13:21:23.111505Z",
          "iopub.status.busy": "2023-07-31T13:21:23.111038Z",
          "iopub.status.idle": "2023-07-31T13:21:23.123474Z",
          "shell.execute_reply": "2023-07-31T13:21:23.122100Z",
          "shell.execute_reply.started": "2023-07-31T13:21:23.111468Z"
        },
        "trusted": true,
        "id": "-o0OFq7ZMY4E"
      },
      "outputs": [],
      "source": [
        "df6 = df.copy()"
      ]
    },
    {
      "cell_type": "markdown",
      "metadata": {
        "id": "bBXisz4RMY4W"
      },
      "source": [
        "<h1>FEATURE ENGINEERING"
      ]
    },
    {
      "cell_type": "markdown",
      "metadata": {
        "id": "fHx4YrLuMY4X"
      },
      "source": [
        "<h3> Detecting Outliers using Boxplot"
      ]
    },
    {
      "cell_type": "code",
      "execution_count": null,
      "metadata": {
        "execution": {
          "iopub.execute_input": "2023-07-31T13:21:23.125781Z",
          "iopub.status.busy": "2023-07-31T13:21:23.125393Z",
          "iopub.status.idle": "2023-07-31T13:21:24.978432Z",
          "shell.execute_reply": "2023-07-31T13:21:24.977357Z",
          "shell.execute_reply.started": "2023-07-31T13:21:23.125747Z"
        },
        "trusted": true,
        "id": "lC5ultf1MY4X",
        "outputId": "0b55b7ae-1739-43e9-e5a9-35513716e31f"
      },
      "outputs": [
        {
          "data": {
            "text/plain": [
              "Text(0.5, 1.0, 'No of employees')"
            ]
          },
          "execution_count": 26,
          "metadata": {},
          "output_type": "execute_result"
        },
        {
          "data": {
            "image/png": "[encoded data removed]",
            "text/plain": [
              "<Figure size 1080x2160 with 10 Axes>"
            ]
          },
          "metadata": {},
          "output_type": "display_data"
        }
      ],
      "source": [
        "plt.figure(figsize = (15, 30))\n",
        "\n",
        "ax=plt.subplot(521)\n",
        "plt.boxplot(df6['age'])\n",
        "ax.set_title('age')\n",
        "ax=plt.subplot(522)\n",
        "plt.boxplot(df6['duration'])\n",
        "ax.set_title('duration')\n",
        "ax=plt.subplot(523)\n",
        "plt.boxplot(df6['campaign'])\n",
        "ax.set_title('campaign')\n",
        "ax=plt.subplot(524)\n",
        "plt.boxplot(df6['pdays'])\n",
        "ax.set_title('pdays')\n",
        "ax=plt.subplot(525)\n",
        "plt.boxplot(df6['previous'])\n",
        "ax.set_title('previous')\n",
        "ax=plt.subplot(526)\n",
        "plt.boxplot(df6['emp.var.rate'])\n",
        "ax.set_title('Employee variation rate')\n",
        "ax=plt.subplot(527)\n",
        "plt.boxplot(df6['cons.price.idx'])\n",
        "ax.set_title('Consumer price index')\n",
        "ax=plt.subplot(528)\n",
        "plt.boxplot(df6['cons.conf.idx'])\n",
        "ax.set_title('Consumer confidence index')\n",
        "ax=plt.subplot(529)\n",
        "plt.boxplot(df6['euribor3m'])\n",
        "ax.set_title('euribor3m')\n",
        "ax=plt.subplot(5,2,10)\n",
        "plt.boxplot(df6['nr.employed'])\n",
        "ax.set_title('No of employees')"
      ]
    },
    {
      "cell_type": "markdown",
      "metadata": {
        "id": "3hTdIbstMY4X"
      },
      "source": [
        "- only <b>age</b>,<b>campaign</b> and <b>duration</b> has outliers"
      ]
    },
    {
      "cell_type": "markdown",
      "metadata": {
        "id": "bKw_KPG2MY4Y"
      },
      "source": [
        "removing outliers using IQR(Inter Qunatile Range) technique"
      ]
    },
    {
      "cell_type": "code",
      "execution_count": null,
      "metadata": {
        "execution": {
          "iopub.execute_input": "2023-07-31T13:21:24.979916Z",
          "iopub.status.busy": "2023-07-31T13:21:24.979614Z",
          "iopub.status.idle": "2023-07-31T13:21:24.992290Z",
          "shell.execute_reply": "2023-07-31T13:21:24.990967Z",
          "shell.execute_reply.started": "2023-07-31T13:21:24.979887Z"
        },
        "trusted": true,
        "id": "A5YDjmwfMY4Y",
        "outputId": "882ea989-6f34-449b-e36e-510d4d57cb85"
      },
      "outputs": [
        {
          "data": {
            "text/plain": [
              "admin.           9420\n",
              "blue-collar      8314\n",
              "technician       6096\n",
              "services         3547\n",
              "management       2637\n",
              "retired          1541\n",
              "entrepreneur     1309\n",
              "self-employed    1276\n",
              "housemaid         946\n",
              "unemployed        925\n",
              "student           767\n",
              "unknown           306\n",
              "Name: job, dtype: int64"
            ]
          },
          "execution_count": 27,
          "metadata": {},
          "output_type": "execute_result"
        }
      ],
      "source": [
        "df6.job.value_counts()"
      ]
    },
    {
      "cell_type": "code",
      "execution_count": null,
      "metadata": {
        "execution": {
          "iopub.execute_input": "2023-07-31T13:21:24.996343Z",
          "iopub.status.busy": "2023-07-31T13:21:24.995505Z",
          "iopub.status.idle": "2023-07-31T13:21:25.017596Z",
          "shell.execute_reply": "2023-07-31T13:21:25.016269Z",
          "shell.execute_reply.started": "2023-07-31T13:21:24.996276Z"
        },
        "trusted": true,
        "id": "JM-a9uXUMY4Y"
      },
      "outputs": [],
      "source": [
        "df6.job = df6.job.apply(lambda x : \"admin\" if x=='admin.' else x)"
      ]
    },
    {
      "cell_type": "code",
      "execution_count": null,
      "metadata": {
        "execution": {
          "iopub.execute_input": "2023-07-31T13:21:25.019638Z",
          "iopub.status.busy": "2023-07-31T13:21:25.019205Z",
          "iopub.status.idle": "2023-07-31T13:21:25.089929Z",
          "shell.execute_reply": "2023-07-31T13:21:25.088739Z",
          "shell.execute_reply.started": "2023-07-31T13:21:25.019596Z"
        },
        "trusted": true,
        "id": "811isHZYMY4Z"
      },
      "outputs": [],
      "source": [
        "outlier_cols = ['age','campaign','duration']\n",
        "\n",
        "for oc in outlier_cols:\n",
        "    Q1 = df6[oc].quantile(0.25)\n",
        "    Q3 = df6[oc].quantile(0.75)\n",
        "    IQR = Q3-Q1\n",
        "\n",
        "    updated_cols = (df6[oc] >= Q1 - 1.5*IQR) & (df6[oc] <= Q3 + 1.5*IQR)\n",
        "\n",
        "    df6 = df6.loc[updated_cols]"
      ]
    },
    {
      "cell_type": "code",
      "execution_count": null,
      "metadata": {
        "execution": {
          "iopub.execute_input": "2023-07-31T13:21:25.091837Z",
          "iopub.status.busy": "2023-07-31T13:21:25.091460Z",
          "iopub.status.idle": "2023-07-31T13:21:25.104155Z",
          "shell.execute_reply": "2023-07-31T13:21:25.103208Z",
          "shell.execute_reply.started": "2023-07-31T13:21:25.091806Z"
        },
        "trusted": true,
        "id": "CgIENgiGMY4Z",
        "outputId": "1d983b82-99ba-473c-c04b-5cde5f5274dc"
      },
      "outputs": [
        {
          "data": {
            "text/plain": [
              "university.degree      9501\n",
              "high.school            7412\n",
              "basic.9y               4748\n",
              "professional.course    4123\n",
              "basic.4y               3083\n",
              "basic.6y               1791\n",
              "unknown                1308\n",
              "illiterate               12\n",
              "Name: education, dtype: int64"
            ]
          },
          "execution_count": 30,
          "metadata": {},
          "output_type": "execute_result"
        }
      ],
      "source": [
        "df6.education.value_counts()"
      ]
    },
    {
      "cell_type": "code",
      "execution_count": null,
      "metadata": {
        "id": "1Z5qFT3uMY4a",
        "outputId": "29ef5896-6b6d-4a20-a619-b53c90e9c6f3"
      },
      "outputs": [
        {
          "data": {
            "text/plain": [
              "4    10222\n",
              "2     9142\n",
              "1     7395\n",
              "3     5168\n",
              "5       51\n",
              "Name: Region_Code, dtype: int64"
            ]
          },
          "execution_count": 31,
          "metadata": {},
          "output_type": "execute_result"
        }
      ],
      "source": [
        "df6.Region_Code = df6.Region_Code.apply(lambda x : 5 if x=='Na' else x)\n",
        "df6.Region_Code.value_counts()"
      ]
    },
    {
      "cell_type": "code",
      "execution_count": null,
      "metadata": {
        "execution": {
          "iopub.execute_input": "2023-07-31T13:21:25.106086Z",
          "iopub.status.busy": "2023-07-31T13:21:25.105738Z",
          "iopub.status.idle": "2023-07-31T13:21:25.138922Z",
          "shell.execute_reply": "2023-07-31T13:21:25.137560Z",
          "shell.execute_reply.started": "2023-07-31T13:21:25.106053Z"
        },
        "trusted": true,
        "id": "WeEd8W9UMY4a",
        "outputId": "fc446e1c-0093-4b0f-a277-07c1265ec201"
      },
      "outputs": [
        {
          "data": {
            "text/plain": [
              "mid_school             9622\n",
              "university.degree      9501\n",
              "high.school            7412\n",
              "professional.course    4123\n",
              "unknown                1308\n",
              "illiterate               12\n",
              "Name: education, dtype: int64"
            ]
          },
          "execution_count": 32,
          "metadata": {},
          "output_type": "execute_result"
        }
      ],
      "source": [
        "outlier_edu = ['basic.9y','basic.6y','basic.4y']\n",
        "\n",
        "for oe in outlier_edu:\n",
        "    df6.loc[df6.education == oe, 'education'] = \"mid_school\"\n",
        "\n",
        "df6.education.value_counts()"
      ]
    },
    {
      "cell_type": "markdown",
      "metadata": {
        "id": "GLjVDVhJMY4b"
      },
      "source": [
        "<h3>ENCODING categorical columns"
      ]
    },
    {
      "cell_type": "code",
      "execution_count": null,
      "metadata": {
        "execution": {
          "iopub.execute_input": "2023-07-31T13:21:25.141679Z",
          "iopub.status.busy": "2023-07-31T13:21:25.140829Z",
          "iopub.status.idle": "2023-07-31T13:21:25.148944Z",
          "shell.execute_reply": "2023-07-31T13:21:25.147997Z",
          "shell.execute_reply.started": "2023-07-31T13:21:25.141625Z"
        },
        "trusted": true,
        "id": "6Yd5iArhMY4b"
      },
      "outputs": [],
      "source": [
        "df6.loc[df6['pdays'] == 999, 'pdays'] = 0"
      ]
    },
    {
      "cell_type": "code",
      "execution_count": null,
      "metadata": {
        "id": "FCUYZeKfMY4b"
      },
      "outputs": [],
      "source": [
        "df6.to_csv('preprocessed_data.csv')"
      ]
    },
    {
      "cell_type": "code",
      "execution_count": null,
      "metadata": {
        "execution": {
          "iopub.execute_input": "2023-07-31T13:21:25.153966Z",
          "iopub.status.busy": "2023-07-31T13:21:25.153550Z",
          "iopub.status.idle": "2023-07-31T13:21:25.193090Z",
          "shell.execute_reply": "2023-07-31T13:21:25.191791Z",
          "shell.execute_reply.started": "2023-07-31T13:21:25.153933Z"
        },
        "trusted": true,
        "id": "Z2OSMI8fMY4b"
      },
      "outputs": [],
      "source": [
        "label = {'yes':1, 'no':0, 'unknown':-1}\n",
        "df6.housing = df6.housing.map(label)\n",
        "df6.default = df6.default.map(label)\n",
        "df6.loan = df6.loan.map(label)\n",
        "df6.y = df6.y.map(label)"
      ]
    },
    {
      "cell_type": "code",
      "execution_count": null,
      "metadata": {
        "execution": {
          "iopub.execute_input": "2023-07-31T13:21:25.196684Z",
          "iopub.status.busy": "2023-07-31T13:21:25.195882Z",
          "iopub.status.idle": "2023-07-31T13:21:25.201370Z",
          "shell.execute_reply": "2023-07-31T13:21:25.200238Z",
          "shell.execute_reply.started": "2023-07-31T13:21:25.196637Z"
        },
        "trusted": true,
        "id": "JR4Bcwy7MY4c"
      },
      "outputs": [],
      "source": [
        "# df6.head(40)"
      ]
    },
    {
      "cell_type": "code",
      "execution_count": null,
      "metadata": {
        "execution": {
          "iopub.execute_input": "2023-07-31T13:21:25.203349Z",
          "iopub.status.busy": "2023-07-31T13:21:25.202885Z",
          "iopub.status.idle": "2023-07-31T13:21:25.228725Z",
          "shell.execute_reply": "2023-07-31T13:21:25.227373Z",
          "shell.execute_reply.started": "2023-07-31T13:21:25.203284Z"
        },
        "trusted": true,
        "id": "uGyGt6PeMY4c"
      },
      "outputs": [],
      "source": [
        "month_map = {'may':5,'jul':7,'aug':8,'jun':6,'nov':11,'apr':4,'oct':10,'sep':9,'mar':3,'dec':12}\n",
        "df6['month']= df6['month'].map(month_map)\n",
        "\n",
        "day_map = {'thu':5,'mon':2,'wed':4,'tue':3,'fri':6}\n",
        "df6['day_of_week']= df6['day_of_week'].map(day_map)"
      ]
    },
    {
      "cell_type": "code",
      "execution_count": null,
      "metadata": {
        "execution": {
          "iopub.execute_input": "2023-07-31T13:21:25.231589Z",
          "iopub.status.busy": "2023-07-31T13:21:25.230565Z",
          "iopub.status.idle": "2023-07-31T13:21:25.244162Z",
          "shell.execute_reply": "2023-07-31T13:21:25.243263Z",
          "shell.execute_reply.started": "2023-07-31T13:21:25.231540Z"
        },
        "trusted": true,
        "id": "9Er4PoOzMY4c"
      },
      "outputs": [],
      "source": [
        "label = {'failure':0, 'success':1, 'nonexistent':-1}\n",
        "df6['poutcome'] = df6.poutcome.map(label)"
      ]
    },
    {
      "cell_type": "code",
      "execution_count": null,
      "metadata": {
        "execution": {
          "iopub.execute_input": "2023-07-31T13:21:25.246544Z",
          "iopub.status.busy": "2023-07-31T13:21:25.245520Z",
          "iopub.status.idle": "2023-07-31T13:21:25.260932Z",
          "shell.execute_reply": "2023-07-31T13:21:25.259560Z",
          "shell.execute_reply.started": "2023-07-31T13:21:25.246499Z"
        },
        "trusted": true,
        "id": "uxGN9e2tMY4d"
      },
      "outputs": [],
      "source": [
        "df6['contact'] = df6.contact.map({'cellular':1,'telephone':0})"
      ]
    },
    {
      "cell_type": "code",
      "execution_count": null,
      "metadata": {
        "execution": {
          "iopub.execute_input": "2023-07-31T13:21:25.263070Z",
          "iopub.status.busy": "2023-07-31T13:21:25.262387Z",
          "iopub.status.idle": "2023-07-31T13:21:25.280648Z",
          "shell.execute_reply": "2023-07-31T13:21:25.279406Z",
          "shell.execute_reply.started": "2023-07-31T13:21:25.263037Z"
        },
        "trusted": true,
        "id": "7IR_53tgMY4d",
        "outputId": "aac42a52-ba05-47c0-b491-182f9783d725"
      },
      "outputs": [
        {
          "data": {
            "text/plain": [
              "marital\n",
              "divorced    0.063915\n",
              "married     0.069475\n",
              "single      0.114582\n",
              "unknown     0.142857\n",
              "Name: y, dtype: float64"
            ]
          },
          "execution_count": 40,
          "metadata": {},
          "output_type": "execute_result"
        }
      ],
      "source": [
        "df6.groupby(['marital'])['y'].mean().sort_values()"
      ]
    },
    {
      "cell_type": "code",
      "execution_count": null,
      "metadata": {
        "execution": {
          "iopub.execute_input": "2023-07-31T13:21:25.282750Z",
          "iopub.status.busy": "2023-07-31T13:21:25.282074Z",
          "iopub.status.idle": "2023-07-31T13:21:25.300482Z",
          "shell.execute_reply": "2023-07-31T13:21:25.299107Z",
          "shell.execute_reply.started": "2023-07-31T13:21:25.282714Z"
        },
        "trusted": true,
        "id": "4aQ4aJnhMY4d"
      },
      "outputs": [],
      "source": [
        "labels_1 = df6.groupby(['marital'])['y'].mean().sort_values().index\n",
        "labels ={k:i for i,k in enumerate(labels_1,0)}\n",
        "\n",
        "df6['marital'] = df6['marital'].map(labels)"
      ]
    },
    {
      "cell_type": "code",
      "execution_count": null,
      "metadata": {
        "execution": {
          "iopub.execute_input": "2023-07-31T13:21:25.304809Z",
          "iopub.status.busy": "2023-07-31T13:21:25.304452Z",
          "iopub.status.idle": "2023-07-31T13:21:25.326881Z",
          "shell.execute_reply": "2023-07-31T13:21:25.325610Z",
          "shell.execute_reply.started": "2023-07-31T13:21:25.304779Z"
        },
        "trusted": true,
        "id": "RAqwz-eCMY4e"
      },
      "outputs": [],
      "source": [
        "df_job = df6['job'].value_counts().to_dict()\n",
        "df_ed = df6['education'].value_counts().to_dict()\n",
        "\n",
        "df_job = dict(sorted(df_job.items(), key=lambda item: item[1]))\n",
        "df_ed = dict(sorted(df_ed.items(), key=lambda item: item[1]))\n",
        "\n",
        "job_label = {k:i for i,k in enumerate(df_job.keys())}\n",
        "ed_label = {k:i for i,k in enumerate(df_ed.keys())}\n",
        "\n",
        "df6['job'] = df6['job'].map(job_label)\n",
        "df6['education'] = df6['education'].map(ed_label)"
      ]
    },
    {
      "cell_type": "code",
      "execution_count": null,
      "metadata": {
        "execution": {
          "iopub.execute_input": "2023-07-31T13:21:25.328628Z",
          "iopub.status.busy": "2023-07-31T13:21:25.328228Z",
          "iopub.status.idle": "2023-07-31T13:21:25.355028Z",
          "shell.execute_reply": "2023-07-31T13:21:25.353666Z",
          "shell.execute_reply.started": "2023-07-31T13:21:25.328594Z"
        },
        "trusted": true,
        "id": "T1h3WPrpMY4e",
        "outputId": "64ce5264-d413-4a8d-db8e-bf166b67f9d0"
      },
      "outputs": [
        {
          "data": {
            "text/html": [
              "<div>\n",
              "<style scoped>\n",
              "    .dataframe tbody tr th:only-of-type {\n",
              "        vertical-align: middle;\n",
              "    }\n",
              "\n",
              "    .dataframe tbody tr th {\n",
              "        vertical-align: top;\n",
              "    }\n",
              "\n",
              "    .dataframe thead th {\n",
              "        text-align: right;\n",
              "    }\n",
              "</style>\n",
              "<table border=\"1\" class=\"dataframe\">\n",
              "  <thead>\n",
              "    <tr style=\"text-align: right;\">\n",
              "      <th></th>\n",
              "      <th>Customer_id</th>\n",
              "      <th>age</th>\n",
              "      <th>job</th>\n",
              "      <th>marital</th>\n",
              "      <th>education</th>\n",
              "      <th>default</th>\n",
              "      <th>housing</th>\n",
              "      <th>loan</th>\n",
              "      <th>Region_Code</th>\n",
              "      <th>State_Code</th>\n",
              "      <th>...</th>\n",
              "      <th>campaign</th>\n",
              "      <th>pdays</th>\n",
              "      <th>previous</th>\n",
              "      <th>poutcome</th>\n",
              "      <th>emp.var.rate</th>\n",
              "      <th>cons.price.idx</th>\n",
              "      <th>cons.conf.idx</th>\n",
              "      <th>euribor3m</th>\n",
              "      <th>nr.employed</th>\n",
              "      <th>y</th>\n",
              "    </tr>\n",
              "  </thead>\n",
              "  <tbody>\n",
              "    <tr>\n",
              "      <th>0</th>\n",
              "      <td>1</td>\n",
              "      <td>56</td>\n",
              "      <td>8</td>\n",
              "      <td>1</td>\n",
              "      <td>3</td>\n",
              "      <td>0</td>\n",
              "      <td>0</td>\n",
              "      <td>1</td>\n",
              "      <td>3</td>\n",
              "      <td>S1</td>\n",
              "      <td>...</td>\n",
              "      <td>1</td>\n",
              "      <td>0</td>\n",
              "      <td>0</td>\n",
              "      <td>-1</td>\n",
              "      <td>1.1</td>\n",
              "      <td>93.994</td>\n",
              "      <td>-36.4</td>\n",
              "      <td>4.857</td>\n",
              "      <td>5191.0</td>\n",
              "      <td>0</td>\n",
              "    </tr>\n",
              "    <tr>\n",
              "      <th>1</th>\n",
              "      <td>2</td>\n",
              "      <td>45</td>\n",
              "      <td>8</td>\n",
              "      <td>1</td>\n",
              "      <td>5</td>\n",
              "      <td>-1</td>\n",
              "      <td>0</td>\n",
              "      <td>0</td>\n",
              "      <td>3</td>\n",
              "      <td>S1</td>\n",
              "      <td>...</td>\n",
              "      <td>1</td>\n",
              "      <td>0</td>\n",
              "      <td>0</td>\n",
              "      <td>-1</td>\n",
              "      <td>1.1</td>\n",
              "      <td>93.994</td>\n",
              "      <td>-36.4</td>\n",
              "      <td>4.857</td>\n",
              "      <td>5191.0</td>\n",
              "      <td>0</td>\n",
              "    </tr>\n",
              "    <tr>\n",
              "      <th>2</th>\n",
              "      <td>3</td>\n",
              "      <td>59</td>\n",
              "      <td>11</td>\n",
              "      <td>1</td>\n",
              "      <td>2</td>\n",
              "      <td>0</td>\n",
              "      <td>0</td>\n",
              "      <td>0</td>\n",
              "      <td>4</td>\n",
              "      <td>S2</td>\n",
              "      <td>...</td>\n",
              "      <td>1</td>\n",
              "      <td>0</td>\n",
              "      <td>0</td>\n",
              "      <td>-1</td>\n",
              "      <td>1.1</td>\n",
              "      <td>93.994</td>\n",
              "      <td>-36.4</td>\n",
              "      <td>4.857</td>\n",
              "      <td>5191.0</td>\n",
              "      <td>0</td>\n",
              "    </tr>\n",
              "    <tr>\n",
              "      <th>3</th>\n",
              "      <td>4</td>\n",
              "      <td>41</td>\n",
              "      <td>10</td>\n",
              "      <td>1</td>\n",
              "      <td>1</td>\n",
              "      <td>-1</td>\n",
              "      <td>0</td>\n",
              "      <td>0</td>\n",
              "      <td>3</td>\n",
              "      <td>S3</td>\n",
              "      <td>...</td>\n",
              "      <td>1</td>\n",
              "      <td>0</td>\n",
              "      <td>0</td>\n",
              "      <td>-1</td>\n",
              "      <td>1.1</td>\n",
              "      <td>93.994</td>\n",
              "      <td>-36.4</td>\n",
              "      <td>4.857</td>\n",
              "      <td>5191.0</td>\n",
              "      <td>0</td>\n",
              "    </tr>\n",
              "    <tr>\n",
              "      <th>4</th>\n",
              "      <td>5</td>\n",
              "      <td>24</td>\n",
              "      <td>9</td>\n",
              "      <td>2</td>\n",
              "      <td>2</td>\n",
              "      <td>0</td>\n",
              "      <td>1</td>\n",
              "      <td>0</td>\n",
              "      <td>3</td>\n",
              "      <td>S3</td>\n",
              "      <td>...</td>\n",
              "      <td>1</td>\n",
              "      <td>0</td>\n",
              "      <td>0</td>\n",
              "      <td>-1</td>\n",
              "      <td>1.1</td>\n",
              "      <td>93.994</td>\n",
              "      <td>-36.4</td>\n",
              "      <td>4.857</td>\n",
              "      <td>5191.0</td>\n",
              "      <td>0</td>\n",
              "    </tr>\n",
              "  </tbody>\n",
              "</table>\n",
              "<p>5 rows × 25 columns</p>\n",
              "</div>"
            ],
            "text/plain": [
              "   Customer_id  age  job  marital  education  default  housing  loan  \\\n",
              "0            1   56    8        1          3        0        0     1   \n",
              "1            2   45    8        1          5       -1        0     0   \n",
              "2            3   59   11        1          2        0        0     0   \n",
              "3            4   41   10        1          1       -1        0     0   \n",
              "4            5   24    9        2          2        0        1     0   \n",
              "\n",
              "  Region_Code State_Code  ... campaign  pdays  previous  poutcome  \\\n",
              "0           3         S1  ...        1      0         0        -1   \n",
              "1           3         S1  ...        1      0         0        -1   \n",
              "2           4         S2  ...        1      0         0        -1   \n",
              "3           3         S3  ...        1      0         0        -1   \n",
              "4           3         S3  ...        1      0         0        -1   \n",
              "\n",
              "   emp.var.rate  cons.price.idx  cons.conf.idx  euribor3m  nr.employed  y  \n",
              "0           1.1          93.994          -36.4      4.857       5191.0  0  \n",
              "1           1.1          93.994          -36.4      4.857       5191.0  0  \n",
              "2           1.1          93.994          -36.4      4.857       5191.0  0  \n",
              "3           1.1          93.994          -36.4      4.857       5191.0  0  \n",
              "4           1.1          93.994          -36.4      4.857       5191.0  0  \n",
              "\n",
              "[5 rows x 25 columns]"
            ]
          },
          "execution_count": 43,
          "metadata": {},
          "output_type": "execute_result"
        }
      ],
      "source": [
        "df6.head()"
      ]
    },
    {
      "cell_type": "code",
      "execution_count": null,
      "metadata": {
        "execution": {
          "iopub.execute_input": "2023-07-31T13:21:25.357900Z",
          "iopub.status.busy": "2023-07-31T13:21:25.356580Z",
          "iopub.status.idle": "2023-07-31T13:21:25.362512Z",
          "shell.execute_reply": "2023-07-31T13:21:25.361699Z",
          "shell.execute_reply.started": "2023-07-31T13:21:25.357862Z"
        },
        "trusted": true,
        "id": "LkPKssihMY4f",
        "outputId": "6470120e-d155-4d92-c3d8-ef852b7aa945"
      },
      "outputs": [
        {
          "name": "stdout",
          "output_type": "stream",
          "text": [
            "-------job--------\n",
            "11    8212\n",
            "10    7259\n",
            "9     5324\n",
            "8     3072\n",
            "7     2303\n",
            "6     1149\n",
            "5     1094\n",
            "4     1016\n",
            "3      810\n",
            "2      798\n",
            "1      682\n",
            "0      259\n",
            "Name: job, dtype: int64\n",
            "-------marital--------\n",
            "1    19374\n",
            "2     9059\n",
            "0     3489\n",
            "3       56\n",
            "Name: marital, dtype: int64\n",
            "-------education--------\n",
            "5    9622\n",
            "4    9501\n",
            "3    7412\n",
            "2    4123\n",
            "1    1308\n",
            "0      12\n",
            "Name: education, dtype: int64\n",
            "-------default--------\n",
            " 0    25394\n",
            "-1     6582\n",
            " 1        2\n",
            "Name: default, dtype: int64\n",
            "-------housing--------\n",
            " 1    16800\n",
            " 0    14418\n",
            "-1      760\n",
            "Name: housing, dtype: int64\n",
            "-------loan--------\n",
            " 0    26360\n",
            " 1     4858\n",
            "-1      760\n",
            "Name: loan, dtype: int64\n",
            "-------contact--------\n",
            "1    20326\n",
            "0    11652\n",
            "Name: contact, dtype: int64\n",
            "-------month--------\n",
            "5     10973\n",
            "7      5270\n",
            "8      4782\n",
            "6      4050\n",
            "11     3347\n",
            "4      2090\n",
            "10      518\n",
            "3       414\n",
            "9       408\n",
            "12      126\n",
            "Name: month, dtype: int64\n",
            "-------day_of_week--------\n",
            "2    6751\n",
            "5    6596\n",
            "3    6326\n",
            "4    6317\n",
            "6    5988\n",
            "Name: day_of_week, dtype: int64\n",
            "-------poutcome--------\n",
            "-1    27516\n",
            " 0     3425\n",
            " 1     1037\n",
            "Name: poutcome, dtype: int64\n",
            "-------y--------\n",
            "0    29363\n",
            "1     2615\n",
            "Name: y, dtype: int64\n"
          ]
        }
      ],
      "source": [
        "categorical_cols = ['job','marital','education','default','housing','loan','contact','month','day_of_week','poutcome','y']\n",
        "\n",
        "for cat in categorical_cols:\n",
        "    print(f\"-------{cat}--------\")\n",
        "    print(df6[cat].value_counts())"
      ]
    },
    {
      "cell_type": "markdown",
      "metadata": {
        "id": "EzPgKdPlMY4f"
      },
      "source": [
        "<h3>Scaling numerical values"
      ]
    },
    {
      "cell_type": "code",
      "execution_count": null,
      "metadata": {
        "execution": {
          "iopub.execute_input": "2023-07-31T13:21:25.364501Z",
          "iopub.status.busy": "2023-07-31T13:21:25.363638Z",
          "iopub.status.idle": "2023-07-31T13:21:25.380731Z",
          "shell.execute_reply": "2023-07-31T13:21:25.379580Z",
          "shell.execute_reply.started": "2023-07-31T13:21:25.364468Z"
        },
        "trusted": true,
        "id": "DgWdAMefMY4f"
      },
      "outputs": [],
      "source": [
        "df7 = df6.copy()"
      ]
    },
    {
      "cell_type": "code",
      "execution_count": null,
      "metadata": {
        "execution": {
          "iopub.execute_input": "2023-07-31T13:21:25.382934Z",
          "iopub.status.busy": "2023-07-31T13:21:25.381935Z",
          "iopub.status.idle": "2023-07-31T13:21:25.399338Z",
          "shell.execute_reply": "2023-07-31T13:21:25.398386Z",
          "shell.execute_reply.started": "2023-07-31T13:21:25.382882Z"
        },
        "trusted": true,
        "id": "pwLy-tWUMY4g",
        "outputId": "9ff87380-6669-45a7-b948-ddf49786812d"
      },
      "outputs": [
        {
          "data": {
            "text/html": [
              "<style>#sk-container-id-1 {color: black;background-color: white;}#sk-container-id-1 pre{padding: 0;}#sk-container-id-1 div.sk-toggleable {background-color: white;}#sk-container-id-1 label.sk-toggleable__label {cursor: pointer;display: block;width: 100%;margin-bottom: 0;padding: 0.3em;box-sizing: border-box;text-align: center;}#sk-container-id-1 label.sk-toggleable__label-arrow:before {content: \"▸\";float: left;margin-right: 0.25em;color: #696969;}#sk-container-id-1 label.sk-toggleable__label-arrow:hover:before {color: black;}#sk-container-id-1 div.sk-estimator:hover label.sk-toggleable__label-arrow:before {color: black;}#sk-container-id-1 div.sk-toggleable__content {max-height: 0;max-width: 0;overflow: hidden;text-align: left;background-color: #f0f8ff;}#sk-container-id-1 div.sk-toggleable__content pre {margin: 0.2em;color: black;border-radius: 0.25em;background-color: #f0f8ff;}#sk-container-id-1 input.sk-toggleable__control:checked~div.sk-toggleable__content {max-height: 200px;max-width: 100%;overflow: auto;}#sk-container-id-1 input.sk-toggleable__control:checked~label.sk-toggleable__label-arrow:before {content: \"▾\";}#sk-container-id-1 div.sk-estimator input.sk-toggleable__control:checked~label.sk-toggleable__label {background-color: #d4ebff;}#sk-container-id-1 div.sk-label input.sk-toggleable__control:checked~label.sk-toggleable__label {background-color: #d4ebff;}#sk-container-id-1 input.sk-hidden--visually {border: 0;clip: rect(1px 1px 1px 1px);clip: rect(1px, 1px, 1px, 1px);height: 1px;margin: -1px;overflow: hidden;padding: 0;position: absolute;width: 1px;}#sk-container-id-1 div.sk-estimator {font-family: monospace;background-color: #f0f8ff;border: 1px dotted black;border-radius: 0.25em;box-sizing: border-box;margin-bottom: 0.5em;}#sk-container-id-1 div.sk-estimator:hover {background-color: #d4ebff;}#sk-container-id-1 div.sk-parallel-item::after {content: \"\";width: 100%;border-bottom: 1px solid gray;flex-grow: 1;}#sk-container-id-1 div.sk-label:hover label.sk-toggleable__label {background-color: #d4ebff;}#sk-container-id-1 div.sk-serial::before {content: \"\";position: absolute;border-left: 1px solid gray;box-sizing: border-box;top: 0;bottom: 0;left: 50%;z-index: 0;}#sk-container-id-1 div.sk-serial {display: flex;flex-direction: column;align-items: center;background-color: white;padding-right: 0.2em;padding-left: 0.2em;position: relative;}#sk-container-id-1 div.sk-item {position: relative;z-index: 1;}#sk-container-id-1 div.sk-parallel {display: flex;align-items: stretch;justify-content: center;background-color: white;position: relative;}#sk-container-id-1 div.sk-item::before, #sk-container-id-1 div.sk-parallel-item::before {content: \"\";position: absolute;border-left: 1px solid gray;box-sizing: border-box;top: 0;bottom: 0;left: 50%;z-index: -1;}#sk-container-id-1 div.sk-parallel-item {display: flex;flex-direction: column;z-index: 1;position: relative;background-color: white;}#sk-container-id-1 div.sk-parallel-item:first-child::after {align-self: flex-end;width: 50%;}#sk-container-id-1 div.sk-parallel-item:last-child::after {align-self: flex-start;width: 50%;}#sk-container-id-1 div.sk-parallel-item:only-child::after {width: 0;}#sk-container-id-1 div.sk-dashed-wrapped {border: 1px dashed gray;margin: 0 0.4em 0.5em 0.4em;box-sizing: border-box;padding-bottom: 0.4em;background-color: white;}#sk-container-id-1 div.sk-label label {font-family: monospace;font-weight: bold;display: inline-block;line-height: 1.2em;}#sk-container-id-1 div.sk-label-container {text-align: center;}#sk-container-id-1 div.sk-container {/* jupyter's `normalize.less` sets `[hidden] { display: none; }` but bootstrap.min.css set `[hidden] { display: none !important; }` so we also need the `!important` here to be able to override the default hidden behavior on the sphinx rendered scikit-learn.org. See: https://github.com/scikit-learn/scikit-learn/issues/21755 */display: inline-block !important;position: relative;}#sk-container-id-1 div.sk-text-repr-fallback {display: none;}</style><div id=\"sk-container-id-1\" class=\"sk-top-container\"><div class=\"sk-text-repr-fallback\"><pre>StandardScaler()</pre><b>In a Jupyter environment, please rerun this cell to show the HTML representation or trust the notebook. <br />On GitHub, the HTML representation is unable to render, please try loading this page with nbviewer.org.</b></div><div class=\"sk-container\" hidden><div class=\"sk-item\"><div class=\"sk-estimator sk-toggleable\"><input class=\"sk-toggleable__control sk-hidden--visually\" id=\"sk-estimator-id-1\" type=\"checkbox\" checked><label for=\"sk-estimator-id-1\" class=\"sk-toggleable__label sk-toggleable__label-arrow\">StandardScaler</label><div class=\"sk-toggleable__content\"><pre>StandardScaler()</pre></div></div></div></div></div>"
            ],
            "text/plain": [
              "StandardScaler()"
            ]
          },
          "execution_count": 46,
          "metadata": {},
          "output_type": "execute_result"
        }
      ],
      "source": [
        "numerical_cols = [\n",
        " 'age',\n",
        " 'duration',\n",
        " 'campaign',\n",
        " 'pdays',\n",
        " 'previous',\n",
        " 'emp.var.rate',\n",
        " 'cons.price.idx',\n",
        " 'cons.conf.idx',\n",
        " 'euribor3m',\n",
        " 'nr.employed']\n",
        "from sklearn.preprocessing import StandardScaler\n",
        "scaler = StandardScaler()\n",
        "scaler.fit(df7[numerical_cols])"
      ]
    },
    {
      "cell_type": "code",
      "execution_count": null,
      "metadata": {
        "execution": {
          "iopub.execute_input": "2023-07-31T13:21:25.400716Z",
          "iopub.status.busy": "2023-07-31T13:21:25.400395Z",
          "iopub.status.idle": "2023-07-31T13:21:25.434749Z",
          "shell.execute_reply": "2023-07-31T13:21:25.433613Z",
          "shell.execute_reply.started": "2023-07-31T13:21:25.400687Z"
        },
        "trusted": true,
        "id": "sVDcu7TpMY4g",
        "outputId": "478ad956-229e-4795-d938-e5786a796a27"
      },
      "outputs": [
        {
          "data": {
            "text/html": [
              "<div>\n",
              "<style scoped>\n",
              "    .dataframe tbody tr th:only-of-type {\n",
              "        vertical-align: middle;\n",
              "    }\n",
              "\n",
              "    .dataframe tbody tr th {\n",
              "        vertical-align: top;\n",
              "    }\n",
              "\n",
              "    .dataframe thead th {\n",
              "        text-align: right;\n",
              "    }\n",
              "</style>\n",
              "<table border=\"1\" class=\"dataframe\">\n",
              "  <thead>\n",
              "    <tr style=\"text-align: right;\">\n",
              "      <th></th>\n",
              "      <th>job</th>\n",
              "      <th>marital</th>\n",
              "      <th>education</th>\n",
              "      <th>default</th>\n",
              "      <th>housing</th>\n",
              "      <th>loan</th>\n",
              "      <th>contact</th>\n",
              "      <th>month</th>\n",
              "      <th>day_of_week</th>\n",
              "      <th>poutcome</th>\n",
              "      <th>...</th>\n",
              "      <th>age</th>\n",
              "      <th>duration</th>\n",
              "      <th>campaign</th>\n",
              "      <th>pdays</th>\n",
              "      <th>previous</th>\n",
              "      <th>emp.var.rate</th>\n",
              "      <th>cons.price.idx</th>\n",
              "      <th>cons.conf.idx</th>\n",
              "      <th>euribor3m</th>\n",
              "      <th>nr.employed</th>\n",
              "    </tr>\n",
              "  </thead>\n",
              "  <tbody>\n",
              "    <tr>\n",
              "      <th>0</th>\n",
              "      <td>8</td>\n",
              "      <td>1</td>\n",
              "      <td>3</td>\n",
              "      <td>0</td>\n",
              "      <td>0</td>\n",
              "      <td>1</td>\n",
              "      <td>0</td>\n",
              "      <td>5</td>\n",
              "      <td>2</td>\n",
              "      <td>-1</td>\n",
              "      <td>...</td>\n",
              "      <td>1.693101</td>\n",
              "      <td>0.710185</td>\n",
              "      <td>-0.812584</td>\n",
              "      <td>-0.160328</td>\n",
              "      <td>-0.354084</td>\n",
              "      <td>0.660796</td>\n",
              "      <td>0.740883</td>\n",
              "      <td>0.893914</td>\n",
              "      <td>0.720576</td>\n",
              "      <td>0.339846</td>\n",
              "    </tr>\n",
              "    <tr>\n",
              "      <th>1</th>\n",
              "      <td>8</td>\n",
              "      <td>1</td>\n",
              "      <td>5</td>\n",
              "      <td>-1</td>\n",
              "      <td>0</td>\n",
              "      <td>0</td>\n",
              "      <td>0</td>\n",
              "      <td>5</td>\n",
              "      <td>2</td>\n",
              "      <td>-1</td>\n",
              "      <td>...</td>\n",
              "      <td>0.556580</td>\n",
              "      <td>-0.064579</td>\n",
              "      <td>-0.812584</td>\n",
              "      <td>-0.160328</td>\n",
              "      <td>-0.354084</td>\n",
              "      <td>0.660796</td>\n",
              "      <td>0.740883</td>\n",
              "      <td>0.893914</td>\n",
              "      <td>0.720576</td>\n",
              "      <td>0.339846</td>\n",
              "    </tr>\n",
              "    <tr>\n",
              "      <th>2</th>\n",
              "      <td>11</td>\n",
              "      <td>1</td>\n",
              "      <td>2</td>\n",
              "      <td>0</td>\n",
              "      <td>0</td>\n",
              "      <td>0</td>\n",
              "      <td>0</td>\n",
              "      <td>5</td>\n",
              "      <td>2</td>\n",
              "      <td>-1</td>\n",
              "      <td>...</td>\n",
              "      <td>2.003061</td>\n",
              "      <td>-0.483946</td>\n",
              "      <td>-0.812584</td>\n",
              "      <td>-0.160328</td>\n",
              "      <td>-0.354084</td>\n",
              "      <td>0.660796</td>\n",
              "      <td>0.740883</td>\n",
              "      <td>0.893914</td>\n",
              "      <td>0.720576</td>\n",
              "      <td>0.339846</td>\n",
              "    </tr>\n",
              "    <tr>\n",
              "      <th>3</th>\n",
              "      <td>10</td>\n",
              "      <td>1</td>\n",
              "      <td>1</td>\n",
              "      <td>-1</td>\n",
              "      <td>0</td>\n",
              "      <td>0</td>\n",
              "      <td>0</td>\n",
              "      <td>5</td>\n",
              "      <td>2</td>\n",
              "      <td>-1</td>\n",
              "      <td>...</td>\n",
              "      <td>0.143300</td>\n",
              "      <td>0.070472</td>\n",
              "      <td>-0.812584</td>\n",
              "      <td>-0.160328</td>\n",
              "      <td>-0.354084</td>\n",
              "      <td>0.660796</td>\n",
              "      <td>0.740883</td>\n",
              "      <td>0.893914</td>\n",
              "      <td>0.720576</td>\n",
              "      <td>0.339846</td>\n",
              "    </tr>\n",
              "    <tr>\n",
              "      <th>4</th>\n",
              "      <td>9</td>\n",
              "      <td>2</td>\n",
              "      <td>2</td>\n",
              "      <td>0</td>\n",
              "      <td>1</td>\n",
              "      <td>0</td>\n",
              "      <td>0</td>\n",
              "      <td>5</td>\n",
              "      <td>2</td>\n",
              "      <td>-1</td>\n",
              "      <td>...</td>\n",
              "      <td>-1.613141</td>\n",
              "      <td>1.229063</td>\n",
              "      <td>-0.812584</td>\n",
              "      <td>-0.160328</td>\n",
              "      <td>-0.354084</td>\n",
              "      <td>0.660796</td>\n",
              "      <td>0.740883</td>\n",
              "      <td>0.893914</td>\n",
              "      <td>0.720576</td>\n",
              "      <td>0.339846</td>\n",
              "    </tr>\n",
              "  </tbody>\n",
              "</table>\n",
              "<p>5 rows × 21 columns</p>\n",
              "</div>"
            ],
            "text/plain": [
              "   job  marital  education  default  housing  loan  contact  month  \\\n",
              "0    8        1          3        0        0     1        0      5   \n",
              "1    8        1          5       -1        0     0        0      5   \n",
              "2   11        1          2        0        0     0        0      5   \n",
              "3   10        1          1       -1        0     0        0      5   \n",
              "4    9        2          2        0        1     0        0      5   \n",
              "\n",
              "   day_of_week  poutcome  ...       age  duration  campaign     pdays  \\\n",
              "0            2        -1  ...  1.693101  0.710185 -0.812584 -0.160328   \n",
              "1            2        -1  ...  0.556580 -0.064579 -0.812584 -0.160328   \n",
              "2            2        -1  ...  2.003061 -0.483946 -0.812584 -0.160328   \n",
              "3            2        -1  ...  0.143300  0.070472 -0.812584 -0.160328   \n",
              "4            2        -1  ... -1.613141  1.229063 -0.812584 -0.160328   \n",
              "\n",
              "   previous  emp.var.rate  cons.price.idx  cons.conf.idx  euribor3m  \\\n",
              "0 -0.354084      0.660796        0.740883       0.893914   0.720576   \n",
              "1 -0.354084      0.660796        0.740883       0.893914   0.720576   \n",
              "2 -0.354084      0.660796        0.740883       0.893914   0.720576   \n",
              "3 -0.354084      0.660796        0.740883       0.893914   0.720576   \n",
              "4 -0.354084      0.660796        0.740883       0.893914   0.720576   \n",
              "\n",
              "   nr.employed  \n",
              "0     0.339846  \n",
              "1     0.339846  \n",
              "2     0.339846  \n",
              "3     0.339846  \n",
              "4     0.339846  \n",
              "\n",
              "[5 rows x 21 columns]"
            ]
          },
          "execution_count": 47,
          "metadata": {},
          "output_type": "execute_result"
        }
      ],
      "source": [
        "scaled_data = pd.concat([df7[categorical_cols].reset_index(drop=True),\n",
        "                    pd.DataFrame(scaler.transform(df7[numerical_cols]), columns=numerical_cols)],\n",
        "                    axis=1)\n",
        "scaled_data.head()"
      ]
    },
    {
      "cell_type": "code",
      "execution_count": null,
      "metadata": {
        "execution": {
          "iopub.execute_input": "2023-07-31T13:23:17.494994Z",
          "iopub.status.busy": "2023-07-31T13:23:17.494631Z",
          "iopub.status.idle": "2023-07-31T13:23:17.592933Z",
          "shell.execute_reply": "2023-07-31T13:23:17.591680Z",
          "shell.execute_reply.started": "2023-07-31T13:23:17.494960Z"
        },
        "trusted": true,
        "id": "IcqDrVVLMY4g",
        "outputId": "01d786d9-9e8f-4dab-b5f7-4051bbc9013c"
      },
      "outputs": [
        {
          "data": {
            "text/html": [
              "<div>\n",
              "<style scoped>\n",
              "    .dataframe tbody tr th:only-of-type {\n",
              "        vertical-align: middle;\n",
              "    }\n",
              "\n",
              "    .dataframe tbody tr th {\n",
              "        vertical-align: top;\n",
              "    }\n",
              "\n",
              "    .dataframe thead th {\n",
              "        text-align: right;\n",
              "    }\n",
              "</style>\n",
              "<table border=\"1\" class=\"dataframe\">\n",
              "  <thead>\n",
              "    <tr style=\"text-align: right;\">\n",
              "      <th></th>\n",
              "      <th>job</th>\n",
              "      <th>marital</th>\n",
              "      <th>education</th>\n",
              "      <th>default</th>\n",
              "      <th>housing</th>\n",
              "      <th>loan</th>\n",
              "      <th>contact</th>\n",
              "      <th>month</th>\n",
              "      <th>day_of_week</th>\n",
              "      <th>poutcome</th>\n",
              "      <th>...</th>\n",
              "      <th>age</th>\n",
              "      <th>duration</th>\n",
              "      <th>campaign</th>\n",
              "      <th>pdays</th>\n",
              "      <th>previous</th>\n",
              "      <th>emp.var.rate</th>\n",
              "      <th>cons.price.idx</th>\n",
              "      <th>cons.conf.idx</th>\n",
              "      <th>euribor3m</th>\n",
              "      <th>nr.employed</th>\n",
              "    </tr>\n",
              "  </thead>\n",
              "  <tbody>\n",
              "    <tr>\n",
              "      <th>count</th>\n",
              "      <td>31978.000000</td>\n",
              "      <td>31978.000000</td>\n",
              "      <td>31978.000000</td>\n",
              "      <td>31978.000000</td>\n",
              "      <td>31978.000000</td>\n",
              "      <td>31978.000000</td>\n",
              "      <td>31978.000000</td>\n",
              "      <td>31978.000000</td>\n",
              "      <td>31978.000000</td>\n",
              "      <td>31978.000000</td>\n",
              "      <td>...</td>\n",
              "      <td>3.197800e+04</td>\n",
              "      <td>3.197800e+04</td>\n",
              "      <td>3.197800e+04</td>\n",
              "      <td>3.197800e+04</td>\n",
              "      <td>3.197800e+04</td>\n",
              "      <td>3.197800e+04</td>\n",
              "      <td>3.197800e+04</td>\n",
              "      <td>3.197800e+04</td>\n",
              "      <td>3.197800e+04</td>\n",
              "      <td>3.197800e+04</td>\n",
              "    </tr>\n",
              "    <tr>\n",
              "      <th>mean</th>\n",
              "      <td>8.526831</td>\n",
              "      <td>1.177685</td>\n",
              "      <td>3.687035</td>\n",
              "      <td>-0.205766</td>\n",
              "      <td>0.501595</td>\n",
              "      <td>0.128151</td>\n",
              "      <td>0.635624</td>\n",
              "      <td>6.601226</td>\n",
              "      <td>3.960723</td>\n",
              "      <td>-0.828038</td>\n",
              "      <td>...</td>\n",
              "      <td>7.110316e-18</td>\n",
              "      <td>-6.754800e-17</td>\n",
              "      <td>-1.493166e-16</td>\n",
              "      <td>1.422063e-17</td>\n",
              "      <td>-2.844126e-17</td>\n",
              "      <td>1.137651e-16</td>\n",
              "      <td>-4.408396e-15</td>\n",
              "      <td>-3.128539e-16</td>\n",
              "      <td>-1.137651e-16</td>\n",
              "      <td>3.071656e-15</td>\n",
              "    </tr>\n",
              "    <tr>\n",
              "      <th>std</th>\n",
              "      <td>2.689865</td>\n",
              "      <td>0.606498</td>\n",
              "      <td>1.150928</td>\n",
              "      <td>0.404422</td>\n",
              "      <td>0.545472</td>\n",
              "      <td>0.399081</td>\n",
              "      <td>0.481262</td>\n",
              "      <td>2.062816</td>\n",
              "      <td>1.412827</td>\n",
              "      <td>0.455252</td>\n",
              "      <td>...</td>\n",
              "      <td>1.000016e+00</td>\n",
              "      <td>1.000016e+00</td>\n",
              "      <td>1.000016e+00</td>\n",
              "      <td>1.000016e+00</td>\n",
              "      <td>1.000016e+00</td>\n",
              "      <td>1.000016e+00</td>\n",
              "      <td>1.000016e+00</td>\n",
              "      <td>1.000016e+00</td>\n",
              "      <td>1.000016e+00</td>\n",
              "      <td>1.000016e+00</td>\n",
              "    </tr>\n",
              "    <tr>\n",
              "      <th>min</th>\n",
              "      <td>0.000000</td>\n",
              "      <td>0.000000</td>\n",
              "      <td>0.000000</td>\n",
              "      <td>-1.000000</td>\n",
              "      <td>-1.000000</td>\n",
              "      <td>-1.000000</td>\n",
              "      <td>0.000000</td>\n",
              "      <td>3.000000</td>\n",
              "      <td>2.000000</td>\n",
              "      <td>-1.000000</td>\n",
              "      <td>...</td>\n",
              "      <td>-2.336381e+00</td>\n",
              "      <td>-1.471948e+00</td>\n",
              "      <td>-8.125839e-01</td>\n",
              "      <td>-1.603284e-01</td>\n",
              "      <td>-3.540840e-01</td>\n",
              "      <td>-2.214614e+00</td>\n",
              "      <td>-2.368364e+00</td>\n",
              "      <td>-2.225429e+00</td>\n",
              "      <td>-1.719407e+00</td>\n",
              "      <td>-2.845182e+00</td>\n",
              "    </tr>\n",
              "    <tr>\n",
              "      <th>25%</th>\n",
              "      <td>7.000000</td>\n",
              "      <td>1.000000</td>\n",
              "      <td>3.000000</td>\n",
              "      <td>0.000000</td>\n",
              "      <td>0.000000</td>\n",
              "      <td>0.000000</td>\n",
              "      <td>0.000000</td>\n",
              "      <td>5.000000</td>\n",
              "      <td>3.000000</td>\n",
              "      <td>-1.000000</td>\n",
              "      <td>...</td>\n",
              "      <td>-7.865804e-01</td>\n",
              "      <td>-7.540474e-01</td>\n",
              "      <td>-8.125839e-01</td>\n",
              "      <td>-1.603284e-01</td>\n",
              "      <td>-3.540840e-01</td>\n",
              "      <td>-1.192246e+00</td>\n",
              "      <td>-8.527576e-01</td>\n",
              "      <td>-4.707989e-01</td>\n",
              "      <td>-1.309180e+00</td>\n",
              "      <td>-9.473312e-01</td>\n",
              "    </tr>\n",
              "    <tr>\n",
              "      <th>50%</th>\n",
              "      <td>9.000000</td>\n",
              "      <td>1.000000</td>\n",
              "      <td>4.000000</td>\n",
              "      <td>0.000000</td>\n",
              "      <td>1.000000</td>\n",
              "      <td>0.000000</td>\n",
              "      <td>1.000000</td>\n",
              "      <td>6.000000</td>\n",
              "      <td>4.000000</td>\n",
              "      <td>-1.000000</td>\n",
              "      <td>...</td>\n",
              "      <td>-1.666600e-01</td>\n",
              "      <td>-2.636007e-01</td>\n",
              "      <td>-3.363945e-02</td>\n",
              "      <td>-1.603284e-01</td>\n",
              "      <td>-3.540840e-01</td>\n",
              "      <td>6.607962e-01</td>\n",
              "      <td>-2.128736e-01</td>\n",
              "      <td>-2.758399e-01</td>\n",
              "      <td>7.205764e-01</td>\n",
              "      <td>3.398459e-01</td>\n",
              "    </tr>\n",
              "    <tr>\n",
              "      <th>75%</th>\n",
              "      <td>11.000000</td>\n",
              "      <td>2.000000</td>\n",
              "      <td>5.000000</td>\n",
              "      <td>0.000000</td>\n",
              "      <td>1.000000</td>\n",
              "      <td>0.000000</td>\n",
              "      <td>1.000000</td>\n",
              "      <td>8.000000</td>\n",
              "      <td>5.000000</td>\n",
              "      <td>-1.000000</td>\n",
              "      <td>...</td>\n",
              "      <td>7.632204e-01</td>\n",
              "      <td>5.253789e-01</td>\n",
              "      <td>7.453050e-01</td>\n",
              "      <td>-1.603284e-01</td>\n",
              "      <td>-3.540840e-01</td>\n",
              "      <td>8.524902e-01</td>\n",
              "      <td>7.408830e-01</td>\n",
              "      <td>8.939138e-01</td>\n",
              "      <td>7.806660e-01</td>\n",
              "      <td>8.594789e-01</td>\n",
              "    </tr>\n",
              "    <tr>\n",
              "      <th>max</th>\n",
              "      <td>11.000000</td>\n",
              "      <td>3.000000</td>\n",
              "      <td>5.000000</td>\n",
              "      <td>1.000000</td>\n",
              "      <td>1.000000</td>\n",
              "      <td>1.000000</td>\n",
              "      <td>1.000000</td>\n",
              "      <td>12.000000</td>\n",
              "      <td>6.000000</td>\n",
              "      <td>1.000000</td>\n",
              "      <td>...</td>\n",
              "      <td>3.036262e+00</td>\n",
              "      <td>3.133987e+00</td>\n",
              "      <td>3.082138e+00</td>\n",
              "      <td>2.006889e+01</td>\n",
              "      <td>1.380966e+01</td>\n",
              "      <td>8.524902e-01</td>\n",
              "      <td>2.081345e+00</td>\n",
              "      <td>2.951814e+00</td>\n",
              "      <td>8.291998e-01</td>\n",
              "      <td>8.594789e-01</td>\n",
              "    </tr>\n",
              "  </tbody>\n",
              "</table>\n",
              "<p>8 rows × 21 columns</p>\n",
              "</div>"
            ],
            "text/plain": [
              "                job       marital     education       default       housing  \\\n",
              "count  31978.000000  31978.000000  31978.000000  31978.000000  31978.000000   \n",
              "mean       8.526831      1.177685      3.687035     -0.205766      0.501595   \n",
              "std        2.689865      0.606498      1.150928      0.404422      0.545472   \n",
              "min        0.000000      0.000000      0.000000     -1.000000     -1.000000   \n",
              "25%        7.000000      1.000000      3.000000      0.000000      0.000000   \n",
              "50%        9.000000      1.000000      4.000000      0.000000      1.000000   \n",
              "75%       11.000000      2.000000      5.000000      0.000000      1.000000   \n",
              "max       11.000000      3.000000      5.000000      1.000000      1.000000   \n",
              "\n",
              "               loan       contact         month   day_of_week      poutcome  \\\n",
              "count  31978.000000  31978.000000  31978.000000  31978.000000  31978.000000   \n",
              "mean       0.128151      0.635624      6.601226      3.960723     -0.828038   \n",
              "std        0.399081      0.481262      2.062816      1.412827      0.455252   \n",
              "min       -1.000000      0.000000      3.000000      2.000000     -1.000000   \n",
              "25%        0.000000      0.000000      5.000000      3.000000     -1.000000   \n",
              "50%        0.000000      1.000000      6.000000      4.000000     -1.000000   \n",
              "75%        0.000000      1.000000      8.000000      5.000000     -1.000000   \n",
              "max        1.000000      1.000000     12.000000      6.000000      1.000000   \n",
              "\n",
              "       ...           age      duration      campaign         pdays  \\\n",
              "count  ...  3.197800e+04  3.197800e+04  3.197800e+04  3.197800e+04   \n",
              "mean   ...  7.110316e-18 -6.754800e-17 -1.493166e-16  1.422063e-17   \n",
              "std    ...  1.000016e+00  1.000016e+00  1.000016e+00  1.000016e+00   \n",
              "min    ... -2.336381e+00 -1.471948e+00 -8.125839e-01 -1.603284e-01   \n",
              "25%    ... -7.865804e-01 -7.540474e-01 -8.125839e-01 -1.603284e-01   \n",
              "50%    ... -1.666600e-01 -2.636007e-01 -3.363945e-02 -1.603284e-01   \n",
              "75%    ...  7.632204e-01  5.253789e-01  7.453050e-01 -1.603284e-01   \n",
              "max    ...  3.036262e+00  3.133987e+00  3.082138e+00  2.006889e+01   \n",
              "\n",
              "           previous  emp.var.rate  cons.price.idx  cons.conf.idx  \\\n",
              "count  3.197800e+04  3.197800e+04    3.197800e+04   3.197800e+04   \n",
              "mean  -2.844126e-17  1.137651e-16   -4.408396e-15  -3.128539e-16   \n",
              "std    1.000016e+00  1.000016e+00    1.000016e+00   1.000016e+00   \n",
              "min   -3.540840e-01 -2.214614e+00   -2.368364e+00  -2.225429e+00   \n",
              "25%   -3.540840e-01 -1.192246e+00   -8.527576e-01  -4.707989e-01   \n",
              "50%   -3.540840e-01  6.607962e-01   -2.128736e-01  -2.758399e-01   \n",
              "75%   -3.540840e-01  8.524902e-01    7.408830e-01   8.939138e-01   \n",
              "max    1.380966e+01  8.524902e-01    2.081345e+00   2.951814e+00   \n",
              "\n",
              "          euribor3m   nr.employed  \n",
              "count  3.197800e+04  3.197800e+04  \n",
              "mean  -1.137651e-16  3.071656e-15  \n",
              "std    1.000016e+00  1.000016e+00  \n",
              "min   -1.719407e+00 -2.845182e+00  \n",
              "25%   -1.309180e+00 -9.473312e-01  \n",
              "50%    7.205764e-01  3.398459e-01  \n",
              "75%    7.806660e-01  8.594789e-01  \n",
              "max    8.291998e-01  8.594789e-01  \n",
              "\n",
              "[8 rows x 21 columns]"
            ]
          },
          "execution_count": 48,
          "metadata": {},
          "output_type": "execute_result"
        }
      ],
      "source": [
        "scaled_data.describe()"
      ]
    },
    {
      "cell_type": "code",
      "execution_count": null,
      "metadata": {
        "execution": {
          "iopub.execute_input": "2023-07-31T13:24:27.271774Z",
          "iopub.status.busy": "2023-07-31T13:24:27.271272Z",
          "iopub.status.idle": "2023-07-31T13:24:27.280028Z",
          "shell.execute_reply": "2023-07-31T13:24:27.278804Z",
          "shell.execute_reply.started": "2023-07-31T13:24:27.271739Z"
        },
        "trusted": true,
        "id": "C4JUt0-BMY4h",
        "outputId": "bd1af313-4384-4bb3-955c-1393d8174b5a"
      },
      "outputs": [
        {
          "data": {
            "text/plain": [
              "Index(['job', 'marital', 'education', 'default', 'housing', 'loan', 'contact',\n",
              "       'month', 'day_of_week', 'poutcome', 'y', 'age', 'duration', 'campaign',\n",
              "       'pdays', 'previous', 'emp.var.rate', 'cons.price.idx', 'cons.conf.idx',\n",
              "       'euribor3m', 'nr.employed'],\n",
              "      dtype='object')"
            ]
          },
          "execution_count": 49,
          "metadata": {},
          "output_type": "execute_result"
        }
      ],
      "source": [
        "scaled_data.columns\n",
        "#feature used for modeling"
      ]
    },
    {
      "cell_type": "code",
      "execution_count": null,
      "metadata": {
        "execution": {
          "iopub.execute_input": "2023-07-31T13:21:25.479278Z",
          "iopub.status.busy": "2023-07-31T13:21:25.478881Z",
          "iopub.status.idle": "2023-07-31T13:21:25.497843Z",
          "shell.execute_reply": "2023-07-31T13:21:25.496593Z",
          "shell.execute_reply.started": "2023-07-31T13:21:25.479244Z"
        },
        "trusted": true,
        "id": "ElGC63KvMY4h",
        "outputId": "d7e135ab-7b0b-4fd2-80d8-4c17f9c13444"
      },
      "outputs": [
        {
          "name": "stdout",
          "output_type": "stream",
          "text": [
            "Input Training: (25582, 20)\n",
            "Input Test: (6396, 20)\n",
            "Output Training: (25582,)\n",
            "Output Test: (6396,)\n"
          ]
        }
      ],
      "source": [
        "X = scaled_data.drop(['y'],axis=1)\n",
        "y = scaled_data.y\n",
        "\n",
        "from sklearn.model_selection import train_test_split\n",
        "\n",
        "X_train, X_test, y_train, y_test = train_test_split(X, y,train_size=0.8,random_state=1)\n",
        "print(\"Input Training:\",X_train.shape)\n",
        "print(\"Input Test:\",X_test.shape)\n",
        "print(\"Output Training:\",y_train.shape)\n",
        "print(\"Output Test:\",y_test.shape)"
      ]
    },
    {
      "cell_type": "code",
      "execution_count": null,
      "metadata": {
        "execution": {
          "iopub.execute_input": "2023-07-31T13:21:25.499577Z",
          "iopub.status.busy": "2023-07-31T13:21:25.499229Z",
          "iopub.status.idle": "2023-07-31T13:21:25.520592Z",
          "shell.execute_reply": "2023-07-31T13:21:25.519431Z",
          "shell.execute_reply.started": "2023-07-31T13:21:25.499547Z"
        },
        "trusted": true,
        "id": "4IZEhzJ7MY4h",
        "outputId": "47fe096c-6d6b-46d0-c977-f6380b81c16e"
      },
      "outputs": [
        {
          "data": {
            "text/html": [
              "<div>\n",
              "<style scoped>\n",
              "    .dataframe tbody tr th:only-of-type {\n",
              "        vertical-align: middle;\n",
              "    }\n",
              "\n",
              "    .dataframe tbody tr th {\n",
              "        vertical-align: top;\n",
              "    }\n",
              "\n",
              "    .dataframe thead th {\n",
              "        text-align: right;\n",
              "    }\n",
              "</style>\n",
              "<table border=\"1\" class=\"dataframe\">\n",
              "  <thead>\n",
              "    <tr style=\"text-align: right;\">\n",
              "      <th></th>\n",
              "      <th>job</th>\n",
              "      <th>marital</th>\n",
              "      <th>education</th>\n",
              "      <th>default</th>\n",
              "      <th>housing</th>\n",
              "      <th>loan</th>\n",
              "      <th>contact</th>\n",
              "      <th>month</th>\n",
              "      <th>day_of_week</th>\n",
              "      <th>poutcome</th>\n",
              "      <th>age</th>\n",
              "      <th>duration</th>\n",
              "      <th>campaign</th>\n",
              "      <th>pdays</th>\n",
              "      <th>previous</th>\n",
              "      <th>emp.var.rate</th>\n",
              "      <th>cons.price.idx</th>\n",
              "      <th>cons.conf.idx</th>\n",
              "      <th>euribor3m</th>\n",
              "      <th>nr.employed</th>\n",
              "    </tr>\n",
              "  </thead>\n",
              "  <tbody>\n",
              "    <tr>\n",
              "      <th>891</th>\n",
              "      <td>2</td>\n",
              "      <td>1</td>\n",
              "      <td>5</td>\n",
              "      <td>0</td>\n",
              "      <td>0</td>\n",
              "      <td>0</td>\n",
              "      <td>0</td>\n",
              "      <td>5</td>\n",
              "      <td>4</td>\n",
              "      <td>-1</td>\n",
              "      <td>-0.786580</td>\n",
              "      <td>-0.690076</td>\n",
              "      <td>-0.033639</td>\n",
              "      <td>-0.160328</td>\n",
              "      <td>-0.354084</td>\n",
              "      <td>0.660796</td>\n",
              "      <td>0.740883</td>\n",
              "      <td>0.893914</td>\n",
              "      <td>0.719999</td>\n",
              "      <td>0.339846</td>\n",
              "    </tr>\n",
              "    <tr>\n",
              "      <th>2834</th>\n",
              "      <td>11</td>\n",
              "      <td>2</td>\n",
              "      <td>3</td>\n",
              "      <td>0</td>\n",
              "      <td>0</td>\n",
              "      <td>1</td>\n",
              "      <td>0</td>\n",
              "      <td>5</td>\n",
              "      <td>5</td>\n",
              "      <td>-1</td>\n",
              "      <td>-1.509821</td>\n",
              "      <td>0.738617</td>\n",
              "      <td>0.745305</td>\n",
              "      <td>-0.160328</td>\n",
              "      <td>-0.354084</td>\n",
              "      <td>0.660796</td>\n",
              "      <td>0.740883</td>\n",
              "      <td>0.893914</td>\n",
              "      <td>0.722310</td>\n",
              "      <td>0.339846</td>\n",
              "    </tr>\n",
              "    <tr>\n",
              "      <th>28791</th>\n",
              "      <td>11</td>\n",
              "      <td>1</td>\n",
              "      <td>4</td>\n",
              "      <td>0</td>\n",
              "      <td>0</td>\n",
              "      <td>0</td>\n",
              "      <td>1</td>\n",
              "      <td>6</td>\n",
              "      <td>2</td>\n",
              "      <td>0</td>\n",
              "      <td>-0.063340</td>\n",
              "      <td>1.790589</td>\n",
              "      <td>-0.812584</td>\n",
              "      <td>-0.160328</td>\n",
              "      <td>1.669308</td>\n",
              "      <td>-1.895124</td>\n",
              "      <td>-1.046977</td>\n",
              "      <td>-0.059219</td>\n",
              "      <td>-1.383714</td>\n",
              "      <td>-1.268075</td>\n",
              "    </tr>\n",
              "    <tr>\n",
              "      <th>2051</th>\n",
              "      <td>4</td>\n",
              "      <td>1</td>\n",
              "      <td>3</td>\n",
              "      <td>0</td>\n",
              "      <td>1</td>\n",
              "      <td>0</td>\n",
              "      <td>0</td>\n",
              "      <td>5</td>\n",
              "      <td>3</td>\n",
              "      <td>-1</td>\n",
              "      <td>1.899741</td>\n",
              "      <td>-0.732724</td>\n",
              "      <td>-0.033639</td>\n",
              "      <td>-0.160328</td>\n",
              "      <td>-0.354084</td>\n",
              "      <td>0.660796</td>\n",
              "      <td>0.740883</td>\n",
              "      <td>0.893914</td>\n",
              "      <td>0.719999</td>\n",
              "      <td>0.339846</td>\n",
              "    </tr>\n",
              "    <tr>\n",
              "      <th>20160</th>\n",
              "      <td>8</td>\n",
              "      <td>2</td>\n",
              "      <td>4</td>\n",
              "      <td>0</td>\n",
              "      <td>1</td>\n",
              "      <td>0</td>\n",
              "      <td>0</td>\n",
              "      <td>11</td>\n",
              "      <td>4</td>\n",
              "      <td>-1</td>\n",
              "      <td>-0.786580</td>\n",
              "      <td>-1.102336</td>\n",
              "      <td>-0.033639</td>\n",
              "      <td>-0.160328</td>\n",
              "      <td>-0.354084</td>\n",
              "      <td>-0.105980</td>\n",
              "      <td>-0.635995</td>\n",
              "      <td>-0.319164</td>\n",
              "      <td>0.294749</td>\n",
              "      <td>0.407076</td>\n",
              "    </tr>\n",
              "  </tbody>\n",
              "</table>\n",
              "</div>"
            ],
            "text/plain": [
              "       job  marital  education  default  housing  loan  contact  month  \\\n",
              "891      2        1          5        0        0     0        0      5   \n",
              "2834    11        2          3        0        0     1        0      5   \n",
              "28791   11        1          4        0        0     0        1      6   \n",
              "2051     4        1          3        0        1     0        0      5   \n",
              "20160    8        2          4        0        1     0        0     11   \n",
              "\n",
              "       day_of_week  poutcome       age  duration  campaign     pdays  \\\n",
              "891              4        -1 -0.786580 -0.690076 -0.033639 -0.160328   \n",
              "2834             5        -1 -1.509821  0.738617  0.745305 -0.160328   \n",
              "28791            2         0 -0.063340  1.790589 -0.812584 -0.160328   \n",
              "2051             3        -1  1.899741 -0.732724 -0.033639 -0.160328   \n",
              "20160            4        -1 -0.786580 -1.102336 -0.033639 -0.160328   \n",
              "\n",
              "       previous  emp.var.rate  cons.price.idx  cons.conf.idx  euribor3m  \\\n",
              "891   -0.354084      0.660796        0.740883       0.893914   0.719999   \n",
              "2834  -0.354084      0.660796        0.740883       0.893914   0.722310   \n",
              "28791  1.669308     -1.895124       -1.046977      -0.059219  -1.383714   \n",
              "2051  -0.354084      0.660796        0.740883       0.893914   0.719999   \n",
              "20160 -0.354084     -0.105980       -0.635995      -0.319164   0.294749   \n",
              "\n",
              "       nr.employed  \n",
              "891       0.339846  \n",
              "2834      0.339846  \n",
              "28791    -1.268075  \n",
              "2051      0.339846  \n",
              "20160     0.407076  "
            ]
          },
          "execution_count": 51,
          "metadata": {},
          "output_type": "execute_result"
        }
      ],
      "source": [
        "X_train.head()"
      ]
    },
    {
      "cell_type": "code",
      "execution_count": null,
      "metadata": {
        "execution": {
          "iopub.execute_input": "2023-07-31T13:27:33.635889Z",
          "iopub.status.busy": "2023-07-31T13:27:33.635479Z",
          "iopub.status.idle": "2023-07-31T13:27:34.205756Z",
          "shell.execute_reply": "2023-07-31T13:27:34.204560Z",
          "shell.execute_reply.started": "2023-07-31T13:27:33.635858Z"
        },
        "trusted": true,
        "id": "eczWA92xMY4i",
        "outputId": "9c349804-d381-4a16-a451-1d901ab403b9"
      },
      "outputs": [
        {
          "data": {
            "text/plain": [
              "0.9312070043777361"
            ]
          },
          "execution_count": 52,
          "metadata": {},
          "output_type": "execute_result"
        }
      ],
      "source": [
        "from sklearn.linear_model import LogisticRegression\n",
        "\n",
        "model = LogisticRegression(max_iter=1000)\n",
        "model.fit(X_train,y_train)\n",
        "model.score(X_test, y_test)"
      ]
    },
    {
      "cell_type": "code",
      "execution_count": null,
      "metadata": {
        "execution": {
          "iopub.execute_input": "2023-07-31T13:21:25.851823Z",
          "iopub.status.busy": "2023-07-31T13:21:25.847593Z",
          "iopub.status.idle": "2023-07-31T13:21:25.861519Z",
          "shell.execute_reply": "2023-07-31T13:21:25.860258Z",
          "shell.execute_reply.started": "2023-07-31T13:21:25.851747Z"
        },
        "trusted": true,
        "id": "w-SamYe9MY4i"
      },
      "outputs": [],
      "source": [
        "from sklearn.model_selection import GridSearchCV\n",
        "from sklearn.tree import DecisionTreeClassifier\n",
        "from sklearn.ensemble import RandomForestClassifier\n",
        "from sklearn.naive_bayes import BernoulliNB\n",
        "from sklearn.neighbors import KNeighborsClassifier\n",
        "from sklearn.svm import SVC\n",
        "from sklearn.model_selection import cross_val_score"
      ]
    },
    {
      "cell_type": "code",
      "execution_count": null,
      "metadata": {
        "execution": {
          "iopub.execute_input": "2023-07-31T13:27:44.917678Z",
          "iopub.status.busy": "2023-07-31T13:27:44.916209Z",
          "iopub.status.idle": "2023-07-31T13:29:17.743209Z",
          "shell.execute_reply": "2023-07-31T13:29:17.741787Z",
          "shell.execute_reply.started": "2023-07-31T13:27:44.917637Z"
        },
        "trusted": true,
        "id": "25pLB37eMY4j",
        "outputId": "2d435adc-2897-4285-f234-313eefab4a6d"
      },
      "outputs": [
        {
          "name": "stderr",
          "output_type": "stream",
          "text": [
            "c:\\Users\\soura\\AppData\\Local\\Programs\\Python\\Python310\\lib\\site-packages\\sklearn\\linear_model\\_logistic.py:444: ConvergenceWarning: lbfgs failed to converge (status=1):\n",
            "STOP: TOTAL NO. of ITERATIONS REACHED LIMIT.\n",
            "\n",
            "Increase the number of iterations (max_iter) or scale the data as shown in:\n",
            "    https://scikit-learn.org/stable/modules/preprocessing.html\n",
            "Please also refer to the documentation for alternative solver options:\n",
            "    https://scikit-learn.org/stable/modules/linear_model.html#logistic-regression\n",
            "  n_iter_i = _check_optimize_result(\n",
            "c:\\Users\\soura\\AppData\\Local\\Programs\\Python\\Python310\\lib\\site-packages\\sklearn\\linear_model\\_logistic.py:444: ConvergenceWarning: lbfgs failed to converge (status=1):\n",
            "STOP: TOTAL NO. of ITERATIONS REACHED LIMIT.\n",
            "\n",
            "Increase the number of iterations (max_iter) or scale the data as shown in:\n",
            "    https://scikit-learn.org/stable/modules/preprocessing.html\n",
            "Please also refer to the documentation for alternative solver options:\n",
            "    https://scikit-learn.org/stable/modules/linear_model.html#logistic-regression\n",
            "  n_iter_i = _check_optimize_result(\n",
            "c:\\Users\\soura\\AppData\\Local\\Programs\\Python\\Python310\\lib\\site-packages\\sklearn\\linear_model\\_logistic.py:444: ConvergenceWarning: lbfgs failed to converge (status=1):\n",
            "STOP: TOTAL NO. of ITERATIONS REACHED LIMIT.\n",
            "\n",
            "Increase the number of iterations (max_iter) or scale the data as shown in:\n",
            "    https://scikit-learn.org/stable/modules/preprocessing.html\n",
            "Please also refer to the documentation for alternative solver options:\n",
            "    https://scikit-learn.org/stable/modules/linear_model.html#logistic-regression\n",
            "  n_iter_i = _check_optimize_result(\n",
            "c:\\Users\\soura\\AppData\\Local\\Programs\\Python\\Python310\\lib\\site-packages\\sklearn\\linear_model\\_logistic.py:444: ConvergenceWarning: lbfgs failed to converge (status=1):\n",
            "STOP: TOTAL NO. of ITERATIONS REACHED LIMIT.\n",
            "\n",
            "Increase the number of iterations (max_iter) or scale the data as shown in:\n",
            "    https://scikit-learn.org/stable/modules/preprocessing.html\n",
            "Please also refer to the documentation for alternative solver options:\n",
            "    https://scikit-learn.org/stable/modules/linear_model.html#logistic-regression\n",
            "  n_iter_i = _check_optimize_result(\n",
            "c:\\Users\\soura\\AppData\\Local\\Programs\\Python\\Python310\\lib\\site-packages\\sklearn\\linear_model\\_logistic.py:444: ConvergenceWarning: lbfgs failed to converge (status=1):\n",
            "STOP: TOTAL NO. of ITERATIONS REACHED LIMIT.\n",
            "\n",
            "Increase the number of iterations (max_iter) or scale the data as shown in:\n",
            "    https://scikit-learn.org/stable/modules/preprocessing.html\n",
            "Please also refer to the documentation for alternative solver options:\n",
            "    https://scikit-learn.org/stable/modules/linear_model.html#logistic-regression\n",
            "  n_iter_i = _check_optimize_result(\n",
            "c:\\Users\\soura\\AppData\\Local\\Programs\\Python\\Python310\\lib\\site-packages\\sklearn\\linear_model\\_logistic.py:444: ConvergenceWarning: lbfgs failed to converge (status=1):\n",
            "STOP: TOTAL NO. of ITERATIONS REACHED LIMIT.\n",
            "\n",
            "Increase the number of iterations (max_iter) or scale the data as shown in:\n",
            "    https://scikit-learn.org/stable/modules/preprocessing.html\n",
            "Please also refer to the documentation for alternative solver options:\n",
            "    https://scikit-learn.org/stable/modules/linear_model.html#logistic-regression\n",
            "  n_iter_i = _check_optimize_result(\n",
            "c:\\Users\\soura\\AppData\\Local\\Programs\\Python\\Python310\\lib\\site-packages\\sklearn\\linear_model\\_logistic.py:444: ConvergenceWarning: lbfgs failed to converge (status=1):\n",
            "STOP: TOTAL NO. of ITERATIONS REACHED LIMIT.\n",
            "\n",
            "Increase the number of iterations (max_iter) or scale the data as shown in:\n",
            "    https://scikit-learn.org/stable/modules/preprocessing.html\n",
            "Please also refer to the documentation for alternative solver options:\n",
            "    https://scikit-learn.org/stable/modules/linear_model.html#logistic-regression\n",
            "  n_iter_i = _check_optimize_result(\n",
            "c:\\Users\\soura\\AppData\\Local\\Programs\\Python\\Python310\\lib\\site-packages\\sklearn\\linear_model\\_logistic.py:444: ConvergenceWarning: lbfgs failed to converge (status=1):\n",
            "STOP: TOTAL NO. of ITERATIONS REACHED LIMIT.\n",
            "\n",
            "Increase the number of iterations (max_iter) or scale the data as shown in:\n",
            "    https://scikit-learn.org/stable/modules/preprocessing.html\n",
            "Please also refer to the documentation for alternative solver options:\n",
            "    https://scikit-learn.org/stable/modules/linear_model.html#logistic-regression\n",
            "  n_iter_i = _check_optimize_result(\n",
            "c:\\Users\\soura\\AppData\\Local\\Programs\\Python\\Python310\\lib\\site-packages\\sklearn\\linear_model\\_logistic.py:444: ConvergenceWarning: lbfgs failed to converge (status=1):\n",
            "STOP: TOTAL NO. of ITERATIONS REACHED LIMIT.\n",
            "\n",
            "Increase the number of iterations (max_iter) or scale the data as shown in:\n",
            "    https://scikit-learn.org/stable/modules/preprocessing.html\n",
            "Please also refer to the documentation for alternative solver options:\n",
            "    https://scikit-learn.org/stable/modules/linear_model.html#logistic-regression\n",
            "  n_iter_i = _check_optimize_result(\n",
            "c:\\Users\\soura\\AppData\\Local\\Programs\\Python\\Python310\\lib\\site-packages\\sklearn\\linear_model\\_logistic.py:444: ConvergenceWarning: lbfgs failed to converge (status=1):\n",
            "STOP: TOTAL NO. of ITERATIONS REACHED LIMIT.\n",
            "\n",
            "Increase the number of iterations (max_iter) or scale the data as shown in:\n",
            "    https://scikit-learn.org/stable/modules/preprocessing.html\n",
            "Please also refer to the documentation for alternative solver options:\n",
            "    https://scikit-learn.org/stable/modules/linear_model.html#logistic-regression\n",
            "  n_iter_i = _check_optimize_result(\n"
          ]
        },
        {
          "name": "stdout",
          "output_type": "stream",
          "text": [
            "Logistic Regression Test Accuracy: 0.8703966918642262\n",
            "Decision Tree Test Accuracy: 0.6545278240251424\n",
            "KNN Test Accuracy: 0.8089206226991651\n",
            "SVC Test Accuracy: 0.8619222543492248\n",
            "Naive Bayes Test Accuracy: 0.7440705433858313\n"
          ]
        }
      ],
      "source": [
        "logreg_cv = LogisticRegression(random_state=0)\n",
        "dt_cv = DecisionTreeClassifier()\n",
        "knn_cv = KNeighborsClassifier()\n",
        "svc_cv = SVC()\n",
        "nb_cv = BernoulliNB()\n",
        "cv_dict = {0: 'Logistic Regression', 1: 'Decision Tree',2:'KNN',3:'SVC',4:'Naive Bayes'}\n",
        "cv_models=[logreg_cv,dt_cv,knn_cv,svc_cv,nb_cv]\n",
        "\n",
        "\n",
        "for i,model in enumerate(cv_models):\n",
        "    print(\"{} Test Accuracy: {}\".format(cv_dict[i],cross_val_score(model, X, y, cv=10, scoring ='accuracy').mean()))"
      ]
    },
    {
      "cell_type": "markdown",
      "metadata": {
        "id": "9hlNZIh_MY4j"
      },
      "source": [
        "<h1>Taking Logistic Regression and Doing hyper parameter tuning we can get the best fit model"
      ]
    },
    {
      "cell_type": "code",
      "execution_count": null,
      "metadata": {
        "execution": {
          "iopub.execute_input": "2023-07-31T13:23:00.464030Z",
          "iopub.status.busy": "2023-07-31T13:23:00.463222Z",
          "iopub.status.idle": "2023-07-31T13:23:16.896172Z",
          "shell.execute_reply": "2023-07-31T13:23:16.894698Z",
          "shell.execute_reply.started": "2023-07-31T13:23:00.463981Z"
        },
        "trusted": true,
        "id": "aIM-Iji5MY4j",
        "outputId": "fb438657-beb2-4472-fbfe-5ee6f486fbb8"
      },
      "outputs": [
        {
          "name": "stderr",
          "output_type": "stream",
          "text": [
            "c:\\Users\\soura\\AppData\\Local\\Programs\\Python\\Python310\\lib\\site-packages\\sklearn\\model_selection\\_validation.py:378: FitFailedWarning: \n",
            "750 fits failed out of a total of 1500.\n",
            "The score on these train-test partitions for these parameters will be set to nan.\n",
            "If these failures are not expected, you can try to debug them by setting error_score='raise'.\n",
            "\n",
            "Below are more details about the failures:\n",
            "--------------------------------------------------------------------------------\n",
            "750 fits failed with the following error:\n",
            "Traceback (most recent call last):\n",
            "  File \"c:\\Users\\soura\\AppData\\Local\\Programs\\Python\\Python310\\lib\\site-packages\\sklearn\\model_selection\\_validation.py\", line 686, in _fit_and_score\n",
            "    estimator.fit(X_train, y_train, **fit_params)\n",
            "  File \"c:\\Users\\soura\\AppData\\Local\\Programs\\Python\\Python310\\lib\\site-packages\\sklearn\\linear_model\\_logistic.py\", line 1091, in fit\n",
            "    solver = _check_solver(self.solver, self.penalty, self.dual)\n",
            "  File \"c:\\Users\\soura\\AppData\\Local\\Programs\\Python\\Python310\\lib\\site-packages\\sklearn\\linear_model\\_logistic.py\", line 61, in _check_solver\n",
            "    raise ValueError(\n",
            "ValueError: Solver lbfgs supports only 'l2' or 'none' penalties, got l1 penalty.\n",
            "\n",
            "  warnings.warn(some_fits_failed_message, FitFailedWarning)\n",
            "c:\\Users\\soura\\AppData\\Local\\Programs\\Python\\Python310\\lib\\site-packages\\sklearn\\model_selection\\_search.py:953: UserWarning: One or more of the test scores are non-finite: [       nan 0.93182698        nan 0.93182698        nan 0.93182698\n",
            "        nan 0.93182698        nan 0.93182698        nan 0.93182698\n",
            "        nan 0.93182698        nan 0.93182698        nan 0.93182698\n",
            "        nan 0.93182698        nan 0.93182698        nan 0.93182698\n",
            "        nan 0.93182698        nan 0.93182698        nan 0.93182698\n",
            "        nan 0.93182698        nan 0.93182698        nan 0.93182698\n",
            "        nan 0.93182698        nan 0.93182698        nan 0.93182698\n",
            "        nan 0.93182698        nan 0.93182698        nan 0.93182698\n",
            "        nan 0.93182698        nan 0.93182698        nan 0.93182698\n",
            "        nan 0.93182698        nan 0.93182698        nan 0.93182698\n",
            "        nan 0.93182698        nan 0.93182698        nan 0.93182698\n",
            "        nan 0.93182698        nan 0.93182698        nan 0.93182698\n",
            "        nan 0.93182698        nan 0.93182698        nan 0.93182698\n",
            "        nan 0.93182698        nan 0.93182698        nan 0.93182698\n",
            "        nan 0.93182698        nan 0.93182698        nan 0.93182698\n",
            "        nan 0.93182698        nan 0.93182698        nan 0.93182698\n",
            "        nan 0.93182698        nan 0.93182698        nan 0.93182698\n",
            "        nan 0.93182698        nan 0.93182698        nan 0.93182698\n",
            "        nan 0.93182698        nan 0.93182698        nan 0.93182698\n",
            "        nan 0.93182698        nan 0.93182698        nan 0.93182698\n",
            "        nan 0.93182698        nan 0.93182698        nan 0.93182698\n",
            "        nan 0.93182698        nan 0.93182698        nan 0.93182698\n",
            "        nan 0.93182698        nan 0.93182698        nan 0.93182698\n",
            "        nan 0.93182698        nan 0.93182698        nan 0.93182698\n",
            "        nan 0.93182698        nan 0.93182698        nan 0.93182698\n",
            "        nan 0.93182698        nan 0.93182698        nan 0.93182698\n",
            "        nan 0.93182698        nan 0.93182698        nan 0.93182698\n",
            "        nan 0.93182698        nan 0.93182698        nan 0.93182698\n",
            "        nan 0.93182698        nan 0.93182698        nan 0.93182698\n",
            "        nan 0.93182698        nan 0.93182698        nan 0.93182698\n",
            "        nan 0.93182698        nan 0.93182698        nan 0.93182698\n",
            "        nan 0.93182698        nan 0.93182698        nan 0.93182698\n",
            "        nan 0.93182698        nan 0.93182698        nan 0.93182698\n",
            "        nan 0.93182698        nan 0.93182698        nan 0.93182698\n",
            "        nan 0.93182698        nan 0.93182698        nan 0.93182698\n",
            "        nan 0.93182698        nan 0.93182698        nan 0.93182698\n",
            "        nan 0.93182698        nan 0.93182698        nan 0.93182698\n",
            "        nan 0.93182698        nan 0.93182698        nan 0.93182698\n",
            "        nan 0.93182698        nan 0.93182698        nan 0.93182698\n",
            "        nan 0.93182698        nan 0.93182698        nan 0.93182698\n",
            "        nan 0.93182698        nan 0.93182698        nan 0.93182698\n",
            "        nan 0.93182698        nan 0.93182698        nan 0.93182698\n",
            "        nan 0.93182698        nan 0.93182698        nan 0.93182698\n",
            "        nan 0.93182698        nan 0.93182698        nan 0.93182698\n",
            "        nan 0.93182698        nan 0.93182698        nan 0.93182698\n",
            "        nan 0.93182698        nan 0.93182698        nan 0.93182698\n",
            "        nan 0.93182698        nan 0.93182698        nan 0.93182698\n",
            "        nan 0.93182698        nan 0.93182698        nan 0.93182698\n",
            "        nan 0.93182698        nan 0.93182698        nan 0.93182698\n",
            "        nan 0.93182698        nan 0.93182698        nan 0.93182698]\n",
            "  warnings.warn(\n",
            "c:\\Users\\soura\\AppData\\Local\\Programs\\Python\\Python310\\lib\\site-packages\\sklearn\\linear_model\\_logistic.py:1113: UserWarning: Setting penalty='none' will ignore the C and l1_ratio parameters\n",
            "  warnings.warn(\n"
          ]
        },
        {
          "name": "stdout",
          "output_type": "stream",
          "text": [
            "LogisticRegression(C=0.0001, max_iter=200, penalty='none', random_state=0)\n",
            "The mean accuracy of the model is: 0.9312070043777361\n"
          ]
        }
      ],
      "source": [
        "param_grid = {'C': np.logspace(-4, 4, 50),\n",
        "             'penalty':['l1', 'none'],\n",
        "            'max_iter': [200,500,1000]}\n",
        "clf = GridSearchCV(LogisticRegression(random_state=0), param_grid,cv=5, verbose=0,n_jobs=-1)\n",
        "best_model = clf.fit(X_train,y_train)\n",
        "print(best_model.best_estimator_)\n",
        "print(\"The mean accuracy of the model is:\",best_model.score(X_test,y_test))"
      ]
    },
    {
      "cell_type": "code",
      "execution_count": null,
      "metadata": {
        "execution": {
          "iopub.execute_input": "2023-07-31T13:23:16.900300Z",
          "iopub.status.busy": "2023-07-31T13:23:16.899305Z",
          "iopub.status.idle": "2023-07-31T13:23:17.204979Z",
          "shell.execute_reply": "2023-07-31T13:23:17.203592Z",
          "shell.execute_reply.started": "2023-07-31T13:23:16.900231Z"
        },
        "trusted": true,
        "id": "IzA0HyTpMY4k",
        "outputId": "bc7b228e-d312-4ccf-c934-7dfcb47e4d59"
      },
      "outputs": [
        {
          "name": "stderr",
          "output_type": "stream",
          "text": [
            "c:\\Users\\soura\\AppData\\Local\\Programs\\Python\\Python310\\lib\\site-packages\\sklearn\\linear_model\\_logistic.py:1113: UserWarning: Setting penalty='none' will ignore the C and l1_ratio parameters\n",
            "  warnings.warn(\n"
          ]
        },
        {
          "name": "stdout",
          "output_type": "stream",
          "text": [
            "Accuracy of logistic regression classifier on test set: 0.93\n"
          ]
        }
      ],
      "source": [
        "logreg = LogisticRegression(C=0.0001, max_iter=200, penalty='none', random_state=0)\n",
        "logreg.fit(X_train, y_train)\n",
        "y_pred = logreg.predict(X_test)\n",
        "print('Accuracy of logistic regression classifier on test set: {:.2f}'.format(logreg.score(X_test, y_test)))"
      ]
    },
    {
      "cell_type": "code",
      "execution_count": null,
      "metadata": {
        "execution": {
          "iopub.execute_input": "2023-07-31T13:29:17.787790Z",
          "iopub.status.busy": "2023-07-31T13:29:17.786903Z",
          "iopub.status.idle": "2023-07-31T13:29:17.827857Z",
          "shell.execute_reply": "2023-07-31T13:29:17.826556Z",
          "shell.execute_reply.started": "2023-07-31T13:29:17.787735Z"
        },
        "trusted": true,
        "id": "xVpJCAT0MY4k",
        "outputId": "d47bc93f-bb29-4f2e-858f-3b66fa2c4822"
      },
      "outputs": [
        {
          "name": "stdout",
          "output_type": "stream",
          "text": [
            "Classification Report:\n",
            "               precision    recall  f1-score   support\n",
            "\n",
            "           0       0.95      0.98      0.96      5883\n",
            "           1       0.62      0.37      0.46       513\n",
            "\n",
            "    accuracy                           0.93      6396\n",
            "   macro avg       0.78      0.67      0.71      6396\n",
            "weighted avg       0.92      0.93      0.92      6396\n",
            "\n"
          ]
        }
      ],
      "source": [
        "from sklearn import metrics\n",
        "from sklearn.metrics import classification_report\n",
        "from sklearn.model_selection import cross_val_score\n",
        "\n",
        "print(\"Classification Report:\\n\",classification_report(y_test, y_pred))"
      ]
    },
    {
      "cell_type": "code",
      "execution_count": null,
      "metadata": {
        "id": "G6Uq1aenMY4l",
        "outputId": "da37d235-ee20-4f61-b7e6-00d5978756c7"
      },
      "outputs": [
        {
          "data": {
            "text/plain": [
              "['final_model.pkl']"
            ]
          },
          "execution_count": 58,
          "metadata": {},
          "output_type": "execute_result"
        }
      ],
      "source": [
        "import joblib\n",
        "\n",
        "\n",
        "# Save the model as a pickle in a file\n",
        "joblib.dump(logreg, 'final_model.pkl')"
      ]
    }
  ],
  "metadata": {
    "kernelspec": {
      "display_name": "Python 3",
      "language": "python",
      "name": "python3"
    },
    "language_info": {
      "codemirror_mode": {
        "name": "ipython",
        "version": 3
      },
      "file_extension": ".py",
      "mimetype": "text/x-python",
      "name": "python",
      "nbconvert_exporter": "python",
      "pygments_lexer": "ipython3",
      "version": "3.10.6"
    },
    "colab": {
      "provenance": [],
      "include_colab_link": true
    }
  },
  "nbformat": 4,
  "nbformat_minor": 0
}